{
  "nbformat": 4,
  "nbformat_minor": 0,
  "metadata": {
    "accelerator": "GPU",
    "colab": {
      "name": "Mini Project Final_New-User Speech .ipynb",
      "provenance": [],
      "toc_visible": true,
      "authorship_tag": "ABX9TyM9i0kHL6YqvIqCdfZOE35p",
      "include_colab_link": true
    },
    "kernelspec": {
      "display_name": "Python 3",
      "name": "python3"
    },
    "language_info": {
      "name": "python"
    }
  },
  "cells": [
    {
      "cell_type": "markdown",
      "metadata": {
        "id": "view-in-github",
        "colab_type": "text"
      },
      "source": [
        "<a href=\"https://colab.research.google.com/github/AKHIL-882/Mini-Project/blob/main/Mini_Project_Final_Latest_User_Speech_.ipynb\" target=\"_parent\"><img src=\"https://colab.research.google.com/assets/colab-badge.svg\" alt=\"Open In Colab\"/></a>"
      ]
    },
    {
      "cell_type": "markdown",
      "metadata": {
        "id": "B8l-9viKYXSd"
      },
      "source": [
        "### **1.1 Installing the required libraries**"
      ]
    },
    {
      "cell_type": "code",
      "metadata": {
        "colab": {
          "base_uri": "https://localhost:8080/"
        },
        "id": "vp36yvTewTuH",
        "outputId": "21c6fafe-87f9-4b9b-9e2a-0491a173fffc"
      },
      "source": [
        "!sudo apt install tesseract-ocr\n",
        "!pip install pytesseract\n",
        "!pip install gtts"
      ],
      "execution_count": 1,
      "outputs": [
        {
          "output_type": "stream",
          "text": [
            "Reading package lists... Done\n",
            "Building dependency tree       \n",
            "Reading state information... Done\n",
            "The following package was automatically installed and is no longer required:\n",
            "  libnvidia-common-460\n",
            "Use 'sudo apt autoremove' to remove it.\n",
            "The following additional packages will be installed:\n",
            "  tesseract-ocr-eng tesseract-ocr-osd\n",
            "The following NEW packages will be installed:\n",
            "  tesseract-ocr tesseract-ocr-eng tesseract-ocr-osd\n",
            "0 upgraded, 3 newly installed, 0 to remove and 34 not upgraded.\n",
            "Need to get 4,795 kB of archives.\n",
            "After this operation, 15.8 MB of additional disk space will be used.\n",
            "Get:1 http://archive.ubuntu.com/ubuntu bionic/universe amd64 tesseract-ocr-eng all 4.00~git24-0e00fe6-1.2 [1,588 kB]\n",
            "Get:2 http://archive.ubuntu.com/ubuntu bionic/universe amd64 tesseract-ocr-osd all 4.00~git24-0e00fe6-1.2 [2,989 kB]\n",
            "Get:3 http://archive.ubuntu.com/ubuntu bionic/universe amd64 tesseract-ocr amd64 4.00~git2288-10f4998a-2 [218 kB]\n",
            "Fetched 4,795 kB in 0s (22.0 MB/s)\n",
            "debconf: unable to initialize frontend: Dialog\n",
            "debconf: (No usable dialog-like program is installed, so the dialog based frontend cannot be used. at /usr/share/perl5/Debconf/FrontEnd/Dialog.pm line 76, <> line 3.)\n",
            "debconf: falling back to frontend: Readline\n",
            "debconf: unable to initialize frontend: Readline\n",
            "debconf: (This frontend requires a controlling tty.)\n",
            "debconf: falling back to frontend: Teletype\n",
            "dpkg-preconfigure: unable to re-open stdin: \n",
            "Selecting previously unselected package tesseract-ocr-eng.\n",
            "(Reading database ... 160706 files and directories currently installed.)\n",
            "Preparing to unpack .../tesseract-ocr-eng_4.00~git24-0e00fe6-1.2_all.deb ...\n",
            "Unpacking tesseract-ocr-eng (4.00~git24-0e00fe6-1.2) ...\n",
            "Selecting previously unselected package tesseract-ocr-osd.\n",
            "Preparing to unpack .../tesseract-ocr-osd_4.00~git24-0e00fe6-1.2_all.deb ...\n",
            "Unpacking tesseract-ocr-osd (4.00~git24-0e00fe6-1.2) ...\n",
            "Selecting previously unselected package tesseract-ocr.\n",
            "Preparing to unpack .../tesseract-ocr_4.00~git2288-10f4998a-2_amd64.deb ...\n",
            "Unpacking tesseract-ocr (4.00~git2288-10f4998a-2) ...\n",
            "Setting up tesseract-ocr-osd (4.00~git24-0e00fe6-1.2) ...\n",
            "Setting up tesseract-ocr-eng (4.00~git24-0e00fe6-1.2) ...\n",
            "Setting up tesseract-ocr (4.00~git2288-10f4998a-2) ...\n",
            "Processing triggers for man-db (2.8.3-2ubuntu0.1) ...\n",
            "Collecting pytesseract\n",
            "  Downloading https://files.pythonhosted.org/packages/a0/e6/a4e9fc8a93c1318540e8de6d8d4beb5749b7960388a7c7f27799fc2dd016/pytesseract-0.3.7.tar.gz\n",
            "Requirement already satisfied: Pillow in /usr/local/lib/python3.7/dist-packages (from pytesseract) (7.1.2)\n",
            "Building wheels for collected packages: pytesseract\n",
            "  Building wheel for pytesseract (setup.py) ... \u001b[?25l\u001b[?25hdone\n",
            "  Created wheel for pytesseract: filename=pytesseract-0.3.7-py2.py3-none-any.whl size=13945 sha256=7c04914941e0c739c73fe6b64d57cac4a22caac73528e1ad454d5e0a0a321fa5\n",
            "  Stored in directory: /root/.cache/pip/wheels/81/20/7e/1dd0daad1575d5260916bb1e9781246430647adaef4b3ca3b3\n",
            "Successfully built pytesseract\n",
            "Installing collected packages: pytesseract\n",
            "Successfully installed pytesseract-0.3.7\n",
            "Collecting gtts\n",
            "  Downloading https://files.pythonhosted.org/packages/5f/b9/94e59337107be134b21ce395a29fc0715b707b560108d6797de2d93e1178/gTTS-2.2.2-py3-none-any.whl\n",
            "Requirement already satisfied: six in /usr/local/lib/python3.7/dist-packages (from gtts) (1.15.0)\n",
            "Requirement already satisfied: click in /usr/local/lib/python3.7/dist-packages (from gtts) (8.0.0)\n",
            "Requirement already satisfied: requests in /usr/local/lib/python3.7/dist-packages (from gtts) (2.23.0)\n",
            "Requirement already satisfied: chardet<4,>=3.0.2 in /usr/local/lib/python3.7/dist-packages (from requests->gtts) (3.0.4)\n",
            "Requirement already satisfied: idna<3,>=2.5 in /usr/local/lib/python3.7/dist-packages (from requests->gtts) (2.10)\n",
            "Requirement already satisfied: urllib3!=1.25.0,!=1.25.1,<1.26,>=1.21.1 in /usr/local/lib/python3.7/dist-packages (from requests->gtts) (1.24.3)\n",
            "Requirement already satisfied: certifi>=2017.4.17 in /usr/local/lib/python3.7/dist-packages (from requests->gtts) (2020.12.5)\n",
            "Installing collected packages: gtts\n",
            "Successfully installed gtts-2.2.2\n"
          ],
          "name": "stdout"
        }
      ]
    },
    {
      "cell_type": "markdown",
      "metadata": {
        "id": "OX9MxwwaYjtJ"
      },
      "source": [
        "### **1.2 Importing the required modules**"
      ]
    },
    {
      "cell_type": "code",
      "metadata": {
        "id": "qm9mor4mwRoM"
      },
      "source": [
        "import pytesseract\n",
        "import shutil\n",
        "import os\n",
        "import random\n",
        "try:\n",
        " from PIL import Image\n",
        "except ImportError:\n",
        " import Image"
      ],
      "execution_count": 2,
      "outputs": []
    },
    {
      "cell_type": "markdown",
      "metadata": {
        "id": "FXShc4f5YoNV"
      },
      "source": [
        "### **1.3 Text Detection from Image**"
      ]
    },
    {
      "cell_type": "code",
      "metadata": {
        "colab": {
          "base_uri": "https://localhost:8080/"
        },
        "id": "_pDH9osevqlJ",
        "outputId": "31c93bfe-735f-4b02-b62b-0e248af1d95e"
      },
      "source": [
        "\n",
        "path='7.jpeg'\n",
        "info_text = pytesseract.image_to_string(Image.open(path))\n",
        "print(info_text)"
      ],
      "execution_count": 4,
      "outputs": [
        {
          "output_type": "stream",
          "text": [
            " \n",
            "\n",
            "MADINA\n",
            "DEST CURRY CO.\n",
            "\n",
            "ADNAN REG MADINA 1\n",
            "TUESDAY 26 JULY 2017 18:21 231862\n",
            "\n",
            " \n",
            "\n",
            " \n",
            "\n",
            "    \n",
            "\n",
            "UPSTAIRS\n",
            "Y\n",
            "1 CHICKEN BIRYANI 4.95\n",
            "1 MASALA BOSA 4.95,\n",
            "1 UTTAPHAM 4.95,\n",
            "SUBTOTAL 14.85\n",
            "No\n",
            "TOTAL €14.85\n",
            "caSH 14,85\n",
            "\n",
            "‘A-NEW GENERATION OF ASIAN FUSION\n",
            "FAST-FOOD RESTAURANTS\n",
            "THANK YOU FOR YOUR CUSTOM\n",
            "\f\n"
          ],
          "name": "stdout"
        }
      ]
    },
    {
      "cell_type": "code",
      "metadata": {
        "id": "NCHxMGugdhsY"
      },
      "source": [
        "\n",
        "f = open(\"recipt_text.txt\", \"w\")\n",
        "f.write(info_text)\n",
        "f.close()\n"
      ],
      "execution_count": 6,
      "outputs": []
    },
    {
      "cell_type": "markdown",
      "metadata": {
        "id": "LMl0T4unYw-V"
      },
      "source": [
        "### **1.4 Converting the text into array**"
      ]
    },
    {
      "cell_type": "code",
      "metadata": {
        "colab": {
          "base_uri": "https://localhost:8080/"
        },
        "id": "lmLAFbEVM-24",
        "outputId": "b8341174-93fb-4c52-d43a-0c82997ff337"
      },
      "source": [
        "recipt_text = info_text.split()\n",
        "recipt_text"
      ],
      "execution_count": 7,
      "outputs": [
        {
          "output_type": "execute_result",
          "data": {
            "text/plain": [
              "['MADINA',\n",
              " 'DEST',\n",
              " 'CURRY',\n",
              " 'CO.',\n",
              " 'ADNAN',\n",
              " 'REG',\n",
              " 'MADINA',\n",
              " '1',\n",
              " 'TUESDAY',\n",
              " '26',\n",
              " 'JULY',\n",
              " '2017',\n",
              " '18:21',\n",
              " '231862',\n",
              " 'UPSTAIRS',\n",
              " 'Y',\n",
              " '1',\n",
              " 'CHICKEN',\n",
              " 'BIRYANI',\n",
              " '4.95',\n",
              " '1',\n",
              " 'MASALA',\n",
              " 'BOSA',\n",
              " '4.95,',\n",
              " '1',\n",
              " 'UTTAPHAM',\n",
              " '4.95,',\n",
              " 'SUBTOTAL',\n",
              " '14.85',\n",
              " 'No',\n",
              " 'TOTAL',\n",
              " '€14.85',\n",
              " 'caSH',\n",
              " '14,85',\n",
              " '‘A-NEW',\n",
              " 'GENERATION',\n",
              " 'OF',\n",
              " 'ASIAN',\n",
              " 'FUSION',\n",
              " 'FAST-FOOD',\n",
              " 'RESTAURANTS',\n",
              " 'THANK',\n",
              " 'YOU',\n",
              " 'FOR',\n",
              " 'YOUR',\n",
              " 'CUSTOM']"
            ]
          },
          "metadata": {
            "tags": []
          },
          "execution_count": 7
        }
      ]
    },
    {
      "cell_type": "markdown",
      "metadata": {
        "id": "yheoxFzVY40w"
      },
      "source": [
        "### **1.5 Converting the text into lowercase**"
      ]
    },
    {
      "cell_type": "code",
      "metadata": {
        "colab": {
          "base_uri": "https://localhost:8080/"
        },
        "id": "TyRNM4ZiXx0Z",
        "outputId": "9fef74bf-1957-46bd-9847-d9a8c9209bdb"
      },
      "source": [
        "for i in range(len(recipt_text)):\n",
        "   recipt_text[i] = recipt_text[i].lower()\n",
        "print(recipt_text)"
      ],
      "execution_count": 8,
      "outputs": [
        {
          "output_type": "stream",
          "text": [
            "['madina', 'dest', 'curry', 'co.', 'adnan', 'reg', 'madina', '1', 'tuesday', '26', 'july', '2017', '18:21', '231862', 'upstairs', 'y', '1', 'chicken', 'biryani', '4.95', '1', 'masala', 'bosa', '4.95,', '1', 'uttapham', '4.95,', 'subtotal', '14.85', 'no', 'total', '€14.85', 'cash', '14,85', '‘a-new', 'generation', 'of', 'asian', 'fusion', 'fast-food', 'restaurants', 'thank', 'you', 'for', 'your', 'custom']\n"
          ],
          "name": "stdout"
        }
      ]
    },
    {
      "cell_type": "markdown",
      "metadata": {
        "id": "lpyxa5uraDUM"
      },
      "source": [
        "### **1.6 User Speech as Input**"
      ]
    },
    {
      "cell_type": "code",
      "metadata": {
        "colab": {
          "base_uri": "https://localhost:8080/",
          "height": 363
        },
        "id": "fbQ6niaCbQ-Y",
        "outputId": "2f955175-aa89-4d5e-d9fa-b15d7d376a5c"
      },
      "source": [
        "from speech_recognition import Microphone, Recognizer, AudioFile\n",
        "\n",
        "rec = Recognizer()\n",
        "mic = Microphone()\n",
        "\n",
        "with mic:\n",
        "    print(\"Talk Now\")\n",
        "    audio = rec.record(mic, 5)\n",
        "\n",
        "recognized = rec.recognize_google(audio)\n",
        "print(\"You said : \", recognized)"
      ],
      "execution_count": 9,
      "outputs": [
        {
          "output_type": "error",
          "ename": "ModuleNotFoundError",
          "evalue": "ignored",
          "traceback": [
            "\u001b[0;31m---------------------------------------------------------------------------\u001b[0m",
            "\u001b[0;31mModuleNotFoundError\u001b[0m                       Traceback (most recent call last)",
            "\u001b[0;32m<ipython-input-9-bd48a7abbcce>\u001b[0m in \u001b[0;36m<module>\u001b[0;34m()\u001b[0m\n\u001b[0;32m----> 1\u001b[0;31m \u001b[0;32mfrom\u001b[0m \u001b[0mspeech_recognition\u001b[0m \u001b[0;32mimport\u001b[0m \u001b[0mMicrophone\u001b[0m\u001b[0;34m,\u001b[0m \u001b[0mRecognizer\u001b[0m\u001b[0;34m,\u001b[0m \u001b[0mAudioFile\u001b[0m\u001b[0;34m\u001b[0m\u001b[0;34m\u001b[0m\u001b[0m\n\u001b[0m\u001b[1;32m      2\u001b[0m \u001b[0;34m\u001b[0m\u001b[0m\n\u001b[1;32m      3\u001b[0m \u001b[0mrec\u001b[0m \u001b[0;34m=\u001b[0m \u001b[0mRecognizer\u001b[0m\u001b[0;34m(\u001b[0m\u001b[0;34m)\u001b[0m\u001b[0;34m\u001b[0m\u001b[0;34m\u001b[0m\u001b[0m\n\u001b[1;32m      4\u001b[0m \u001b[0mmic\u001b[0m \u001b[0;34m=\u001b[0m \u001b[0mMicrophone\u001b[0m\u001b[0;34m(\u001b[0m\u001b[0;34m)\u001b[0m\u001b[0;34m\u001b[0m\u001b[0;34m\u001b[0m\u001b[0m\n\u001b[1;32m      5\u001b[0m \u001b[0;34m\u001b[0m\u001b[0m\n",
            "\u001b[0;31mModuleNotFoundError\u001b[0m: No module named 'speech_recognition'",
            "",
            "\u001b[0;31m---------------------------------------------------------------------------\u001b[0;32m\nNOTE: If your import is failing due to a missing package, you can\nmanually install dependencies using either !pip or !apt.\n\nTo view examples of installing some common dependencies, click the\n\"Open Examples\" button below.\n\u001b[0;31m---------------------------------------------------------------------------\u001b[0m\n"
          ]
        }
      ]
    },
    {
      "cell_type": "markdown",
      "metadata": {
        "id": "ulS4vlgraMjE"
      },
      "source": [
        "### **1.7 Optial case**\n",
        "As speech is not working in colab,I am taking the string as input.\n",
        "\n",
        "**Remove this optial section when using in pycharm**"
      ]
    },
    {
      "cell_type": "code",
      "metadata": {
        "id": "eqgHI6-aaLPv"
      },
      "source": [
        " #I have took a dummy speech\"\n",
        "recognized = \"Please! tell cost of UTTAPHAM \""
      ],
      "execution_count": 34,
      "outputs": []
    },
    {
      "cell_type": "code",
      "metadata": {
        "colab": {
          "base_uri": "https://localhost:8080/"
        },
        "id": "UUyCU29QCUrC",
        "outputId": "d0a07ba2-24ee-4eea-8cf4-37b00406179d"
      },
      "source": [
        "\n",
        "def Convert(string):\n",
        "\tli = list(string.split(\" \"))\n",
        "\treturn li\n",
        "\n",
        "li = Convert(recognized)\n",
        "print(li)\n"
      ],
      "execution_count": 35,
      "outputs": [
        {
          "output_type": "stream",
          "text": [
            "['Please!', 'tell', 'cost', 'of', 'UTTAPHAM', '']\n"
          ],
          "name": "stdout"
        }
      ]
    },
    {
      "cell_type": "code",
      "metadata": {
        "colab": {
          "base_uri": "https://localhost:8080/"
        },
        "id": "rxBNj70fC2aZ",
        "outputId": "b9d19d7f-fa69-413a-8455-ef134705f5a3"
      },
      "source": [
        "\n",
        "articles = {'a','of','only','for','an'}\n",
        "\n",
        "li = [ele for ele in li if ele not in articles]\n",
        "print(li)\n"
      ],
      "execution_count": 36,
      "outputs": [
        {
          "output_type": "stream",
          "text": [
            "['Please!', 'tell', 'cost', 'UTTAPHAM', '']\n"
          ],
          "name": "stdout"
        }
      ]
    },
    {
      "cell_type": "markdown",
      "metadata": {
        "id": "B9JU-Maiakyu"
      },
      "source": [
        "### **1.8 Converting Speech into token of array values**"
      ]
    },
    {
      "cell_type": "code",
      "metadata": {
        "colab": {
          "base_uri": "https://localhost:8080/"
        },
        "id": "OWOxD5GuDsGF",
        "outputId": "dc49204a-c20d-41b4-b3c0-2aa55687ed46"
      },
      "source": [
        "import numpy as np\n",
        "recognized_text = np.asarray(li)\n",
        "\n",
        "for i in range(len(li)):\n",
        "   recognized_text[i] = recognized_text[i].lower()\n",
        "\n",
        "\n",
        "print(recognized_text)\n",
        "print(type(recognized_text))\n"
      ],
      "execution_count": 37,
      "outputs": [
        {
          "output_type": "stream",
          "text": [
            "['please!' 'tell' 'cost' 'uttapham' '']\n",
            "<class 'numpy.ndarray'>\n"
          ],
          "name": "stdout"
        }
      ]
    },
    {
      "cell_type": "markdown",
      "metadata": {
        "id": "w2UZnsUyavtl"
      },
      "source": [
        "### **1.9 User Speech mapping**"
      ]
    },
    {
      "cell_type": "code",
      "metadata": {
        "colab": {
          "base_uri": "https://localhost:8080/"
        },
        "id": "8SYqwNwgaLKd",
        "outputId": "10ab53e9-d037-4902-e799-982b00811f2d"
      },
      "source": [
        "\n",
        "\n",
        "\n",
        "#program to print date\n",
        "for j in range(len(recognized_text)):\n",
        "  if(recognized_text[j] == 'date'):\n",
        "      import re\n",
        "      f = open(\"recipt_text.txt\", \"r\")\n",
        "      content = f.read()\n",
        "      pattern = \"\\d{2}[/-]\\d{2}[/-]\\d{4}\"\n",
        "      dates = re.findall(pattern, content)\n",
        "      for date in dates:\n",
        "          if \"-\" in date:\n",
        "              day, month, year = map(int, date.split(\"-\"))\n",
        "          else:\n",
        "              day, month, year = map(int, date.split(\"/\"))\n",
        "          if 1 <= day <= 31 and 1 <= month <= 12:\n",
        "              print(date)\n",
        "              text_val = date\n",
        "      f.close()\n",
        "\n",
        "\n",
        "#program to print time\n",
        "for j in range(len(recognized_text)):\n",
        "  if(recognized_text[j] == 'time'):\n",
        "    regex = re.compile(r'\\d{2}:\\d{2}')\n",
        "    with open('recipt_text.txt') as f:\n",
        "      # text_val = regex.findall(f.read())\n",
        "      # print(text_val)\n",
        "      def listToString(s):\n",
        "        str1 = \"\"\n",
        "        for ele in s: \n",
        "          str1 += ele\n",
        "        return str1\n",
        "      text_val =listToString(text_val)\n",
        "      print(text_val) \n",
        "         \n",
        "\n",
        "\n",
        "\n",
        "import re\n",
        "count=0\n",
        "for i in range(0, len(recipt_text)):\n",
        "  for j in range(0, len(recognized_text)):\n",
        "     if(recognized_text[j] == recipt_text[i]):\n",
        "       count+=1\n",
        "       n=count\n",
        "\n",
        "if(count == n):\n",
        "  for i in range(0, len(recipt_text)):\n",
        "    for j in range(0, len(recognized_text)):\n",
        "      if(recognized_text[j] == recipt_text[i]):\n",
        "        val = recipt_text[i]\n",
        "\n",
        "\n",
        "for i in range(0, len(recipt_text)):\n",
        "  for j in range(0, len(recognized_text)):\n",
        "     if(recipt_text[i] == val):\n",
        "       inval = i\n",
        "       for i in range(inval,len(recipt_text)):\n",
        "         if(recipt_text[i].isalpha()):\n",
        "           inval+=1\n",
        "         else:\n",
        "           print(recipt_text[inval])\n",
        "           text_val = recipt_text[inval]\n",
        "           break\n"
      ],
      "execution_count": 41,
      "outputs": [
        {
          "output_type": "stream",
          "text": [
            "4.95,\n"
          ],
          "name": "stdout"
        }
      ]
    },
    {
      "cell_type": "markdown",
      "metadata": {
        "id": "Jobdygf4cFUG"
      },
      "source": [
        "### **2.0 Copying the output into a file**"
      ]
    },
    {
      "cell_type": "code",
      "metadata": {
        "id": "wC_gXYYsaLHL",
        "outputId": "85418250-188c-4e91-d103-e3e93d57cba2",
        "colab": {
          "base_uri": "https://localhost:8080/"
        }
      },
      "source": [
        "\n",
        "f = open(\"text.txt\", \"w\")\n",
        "f.write(text_val)\n",
        "f.close()\n",
        "\n",
        "f = open(\"text.txt\", \"r\")\n",
        "print(f.read())\n"
      ],
      "execution_count": 42,
      "outputs": [
        {
          "output_type": "stream",
          "text": [
            "4.95,\n"
          ],
          "name": "stdout"
        }
      ]
    },
    {
      "cell_type": "markdown",
      "metadata": {
        "id": "1Qh7WdpFcUUZ"
      },
      "source": [
        "### **2.1 Converting to audio**"
      ]
    },
    {
      "cell_type": "code",
      "metadata": {
        "id": "QeUsHlPXaLFf",
        "outputId": "f1e13b32-cec7-491e-b940-a171a59d035b",
        "colab": {
          "base_uri": "https://localhost:8080/",
          "height": 363
        }
      },
      "source": [
        "from gtts import gTTS\n",
        "\n",
        "import os\n",
        "\n",
        "f=open('text.txt')\n",
        "x=f.read()\n",
        "\n",
        "language='en'\n",
        "\n",
        "audio=gTTS(text=x,lang=language,slow=False)\n",
        "\n",
        "audio.save(\"1.wav\")\n",
        "os.system(\"1.wav\")"
      ],
      "execution_count": 40,
      "outputs": [
        {
          "output_type": "error",
          "ename": "AssertionError",
          "evalue": "ignored",
          "traceback": [
            "\u001b[0;31m---------------------------------------------------------------------------\u001b[0m",
            "\u001b[0;31mAssertionError\u001b[0m                            Traceback (most recent call last)",
            "\u001b[0;32m<ipython-input-40-34574d879ac6>\u001b[0m in \u001b[0;36m<module>\u001b[0;34m()\u001b[0m\n\u001b[1;32m      8\u001b[0m \u001b[0mlanguage\u001b[0m\u001b[0;34m=\u001b[0m\u001b[0;34m'en'\u001b[0m\u001b[0;34m\u001b[0m\u001b[0;34m\u001b[0m\u001b[0m\n\u001b[1;32m      9\u001b[0m \u001b[0;34m\u001b[0m\u001b[0m\n\u001b[0;32m---> 10\u001b[0;31m \u001b[0maudio\u001b[0m\u001b[0;34m=\u001b[0m\u001b[0mgTTS\u001b[0m\u001b[0;34m(\u001b[0m\u001b[0mtext\u001b[0m\u001b[0;34m=\u001b[0m\u001b[0mx\u001b[0m\u001b[0;34m,\u001b[0m\u001b[0mlang\u001b[0m\u001b[0;34m=\u001b[0m\u001b[0mlanguage\u001b[0m\u001b[0;34m,\u001b[0m\u001b[0mslow\u001b[0m\u001b[0;34m=\u001b[0m\u001b[0;32mFalse\u001b[0m\u001b[0;34m)\u001b[0m\u001b[0;34m\u001b[0m\u001b[0;34m\u001b[0m\u001b[0m\n\u001b[0m\u001b[1;32m     11\u001b[0m \u001b[0;34m\u001b[0m\u001b[0m\n\u001b[1;32m     12\u001b[0m \u001b[0maudio\u001b[0m\u001b[0;34m.\u001b[0m\u001b[0msave\u001b[0m\u001b[0;34m(\u001b[0m\u001b[0;34m\"1.wav\"\u001b[0m\u001b[0;34m)\u001b[0m\u001b[0;34m\u001b[0m\u001b[0;34m\u001b[0m\u001b[0m\n",
            "\u001b[0;32m/usr/local/lib/python3.7/dist-packages/gtts/tts.py\u001b[0m in \u001b[0;36m__init__\u001b[0;34m(self, text, tld, lang, slow, lang_check, pre_processor_funcs, tokenizer_func)\u001b[0m\n\u001b[1;32m    128\u001b[0m \u001b[0;34m\u001b[0m\u001b[0m\n\u001b[1;32m    129\u001b[0m         \u001b[0;31m# Text\u001b[0m\u001b[0;34m\u001b[0m\u001b[0;34m\u001b[0m\u001b[0;34m\u001b[0m\u001b[0m\n\u001b[0;32m--> 130\u001b[0;31m         \u001b[0;32massert\u001b[0m \u001b[0mtext\u001b[0m\u001b[0;34m,\u001b[0m \u001b[0;34m'No text to speak'\u001b[0m\u001b[0;34m\u001b[0m\u001b[0;34m\u001b[0m\u001b[0m\n\u001b[0m\u001b[1;32m    131\u001b[0m         \u001b[0mself\u001b[0m\u001b[0;34m.\u001b[0m\u001b[0mtext\u001b[0m \u001b[0;34m=\u001b[0m \u001b[0mtext\u001b[0m\u001b[0;34m\u001b[0m\u001b[0;34m\u001b[0m\u001b[0m\n\u001b[1;32m    132\u001b[0m \u001b[0;34m\u001b[0m\u001b[0m\n",
            "\u001b[0;31mAssertionError\u001b[0m: No text to speak"
          ]
        }
      ]
    },
    {
      "cell_type": "markdown",
      "metadata": {
        "id": "T_3Okad7cjkk"
      },
      "source": [
        "## **The End**"
      ]
    },
    {
      "cell_type": "code",
      "metadata": {
        "id": "IAAX7W9-jqsQ"
      },
      "source": [
        ""
      ],
      "execution_count": null,
      "outputs": []
    }
  ]
}