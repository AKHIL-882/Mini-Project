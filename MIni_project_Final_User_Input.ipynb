{
  "nbformat": 4,
  "nbformat_minor": 0,
  "metadata": {
    "colab": {
      "name": "MIni project Final - User Input.ipynb",
      "provenance": [],
      "authorship_tag": "ABX9TyMo9ePfNsEyqJyf8R1aKIMW",
      "include_colab_link": true
    },
    "kernelspec": {
      "name": "python3",
      "display_name": "Python 3"
    },
    "language_info": {
      "name": "python"
    },
    "accelerator": "GPU"
  },
  "cells": [
    {
      "cell_type": "markdown",
      "metadata": {
        "id": "view-in-github",
        "colab_type": "text"
      },
      "source": [
        "<a href=\"https://colab.research.google.com/github/AKHIL-882/Mini-Project/blob/main/MIni_project_Final_User_Input.ipynb\" target=\"_parent\"><img src=\"https://colab.research.google.com/assets/colab-badge.svg\" alt=\"Open In Colab\"/></a>"
      ]
    },
    {
      "cell_type": "markdown",
      "metadata": {
        "id": "B8l-9viKYXSd"
      },
      "source": [
        "### **1.1 Installing the required libraries**"
      ]
    },
    {
      "cell_type": "code",
      "metadata": {
        "id": "vp36yvTewTuH",
        "colab": {
          "base_uri": "https://localhost:8080/"
        },
        "outputId": "7f57fa2c-75c5-4bd8-fd89-1b0edfb58c99"
      },
      "source": [
        "!sudo apt install tesseract-ocr\n",
        "!pip install pytesseract\n",
        "!pip install gtts"
      ],
      "execution_count": 1,
      "outputs": [
        {
          "output_type": "stream",
          "text": [
            "Reading package lists... Done\n",
            "Building dependency tree       \n",
            "Reading state information... Done\n",
            "The following package was automatically installed and is no longer required:\n",
            "  libnvidia-common-460\n",
            "Use 'sudo apt autoremove' to remove it.\n",
            "The following additional packages will be installed:\n",
            "  tesseract-ocr-eng tesseract-ocr-osd\n",
            "The following NEW packages will be installed:\n",
            "  tesseract-ocr tesseract-ocr-eng tesseract-ocr-osd\n",
            "0 upgraded, 3 newly installed, 0 to remove and 34 not upgraded.\n",
            "Need to get 4,795 kB of archives.\n",
            "After this operation, 15.8 MB of additional disk space will be used.\n",
            "Get:1 http://archive.ubuntu.com/ubuntu bionic/universe amd64 tesseract-ocr-eng all 4.00~git24-0e00fe6-1.2 [1,588 kB]\n",
            "Get:2 http://archive.ubuntu.com/ubuntu bionic/universe amd64 tesseract-ocr-osd all 4.00~git24-0e00fe6-1.2 [2,989 kB]\n",
            "Get:3 http://archive.ubuntu.com/ubuntu bionic/universe amd64 tesseract-ocr amd64 4.00~git2288-10f4998a-2 [218 kB]\n",
            "Fetched 4,795 kB in 3s (1,790 kB/s)\n",
            "debconf: unable to initialize frontend: Dialog\n",
            "debconf: (No usable dialog-like program is installed, so the dialog based frontend cannot be used. at /usr/share/perl5/Debconf/FrontEnd/Dialog.pm line 76, <> line 3.)\n",
            "debconf: falling back to frontend: Readline\n",
            "debconf: unable to initialize frontend: Readline\n",
            "debconf: (This frontend requires a controlling tty.)\n",
            "debconf: falling back to frontend: Teletype\n",
            "dpkg-preconfigure: unable to re-open stdin: \n",
            "Selecting previously unselected package tesseract-ocr-eng.\n",
            "(Reading database ... 160706 files and directories currently installed.)\n",
            "Preparing to unpack .../tesseract-ocr-eng_4.00~git24-0e00fe6-1.2_all.deb ...\n",
            "Unpacking tesseract-ocr-eng (4.00~git24-0e00fe6-1.2) ...\n",
            "Selecting previously unselected package tesseract-ocr-osd.\n",
            "Preparing to unpack .../tesseract-ocr-osd_4.00~git24-0e00fe6-1.2_all.deb ...\n",
            "Unpacking tesseract-ocr-osd (4.00~git24-0e00fe6-1.2) ...\n",
            "Selecting previously unselected package tesseract-ocr.\n",
            "Preparing to unpack .../tesseract-ocr_4.00~git2288-10f4998a-2_amd64.deb ...\n",
            "Unpacking tesseract-ocr (4.00~git2288-10f4998a-2) ...\n",
            "Setting up tesseract-ocr-osd (4.00~git24-0e00fe6-1.2) ...\n",
            "Setting up tesseract-ocr-eng (4.00~git24-0e00fe6-1.2) ...\n",
            "Setting up tesseract-ocr (4.00~git2288-10f4998a-2) ...\n",
            "Processing triggers for man-db (2.8.3-2ubuntu0.1) ...\n",
            "Collecting pytesseract\n",
            "  Downloading https://files.pythonhosted.org/packages/a0/e6/a4e9fc8a93c1318540e8de6d8d4beb5749b7960388a7c7f27799fc2dd016/pytesseract-0.3.7.tar.gz\n",
            "Requirement already satisfied: Pillow in /usr/local/lib/python3.7/dist-packages (from pytesseract) (7.1.2)\n",
            "Building wheels for collected packages: pytesseract\n",
            "  Building wheel for pytesseract (setup.py) ... \u001b[?25l\u001b[?25hdone\n",
            "  Created wheel for pytesseract: filename=pytesseract-0.3.7-py2.py3-none-any.whl size=13945 sha256=9b0c71c6dc642672ef6d83dd9835904e2820f500d4be41e20037aa36966c91c6\n",
            "  Stored in directory: /root/.cache/pip/wheels/81/20/7e/1dd0daad1575d5260916bb1e9781246430647adaef4b3ca3b3\n",
            "Successfully built pytesseract\n",
            "Installing collected packages: pytesseract\n",
            "Successfully installed pytesseract-0.3.7\n"
          ],
          "name": "stdout"
        }
      ]
    },
    {
      "cell_type": "markdown",
      "metadata": {
        "id": "OX9MxwwaYjtJ"
      },
      "source": [
        "### **1.2 Importing the required modules**"
      ]
    },
    {
      "cell_type": "code",
      "metadata": {
        "id": "qm9mor4mwRoM"
      },
      "source": [
        "import pytesseract\n",
        "import shutil\n",
        "import os\n",
        "import random\n",
        "try:\n",
        " from PIL import Image\n",
        "except ImportError:\n",
        " import Image"
      ],
      "execution_count": 2,
      "outputs": []
    },
    {
      "cell_type": "markdown",
      "metadata": {
        "id": "FXShc4f5YoNV"
      },
      "source": [
        "### **1.3 Text Detection from Image**"
      ]
    },
    {
      "cell_type": "code",
      "metadata": {
        "colab": {
          "base_uri": "https://localhost:8080/"
        },
        "id": "_pDH9osevqlJ",
        "outputId": "9e207e5c-75c3-4c22-957b-48428e4bce36"
      },
      "source": [
        "\n",
        "path='2.jpg'\n",
        "info_text = pytesseract.image_to_string(Image.open(path))\n",
        "print(info_text)"
      ],
      "execution_count": 3,
      "outputs": [
        {
          "output_type": "stream",
          "text": [
            " \n",
            "\n",
            " \n",
            "\n",
            "RECEIPT\n",
            "Terminal#t1 01-02-2018 11:32AM\n",
            "1xT-Shirt $25.50\n",
            "1x Watches $299.00\n",
            "1x Pants $32.99\n",
            "1x Socks $6.50\n",
            "TOTAL AMOUNT $363.99\n",
            "CASH $400.00\n",
            "CHANGE $36.01\n",
            "Bank Card HI OEE EE IOI\n",
            "Approvaltt 192107\n",
            "\n",
            " \n",
            "\n",
            "sence THANK YOU! ences\n",
            "\n",
            " \n",
            "\n",
            "INT\n",
            "\n",
            " \n",
            "\f\n"
          ],
          "name": "stdout"
        }
      ]
    },
    {
      "cell_type": "markdown",
      "metadata": {
        "id": "LMl0T4unYw-V"
      },
      "source": [
        "### **1.4 Converting the text into array**"
      ]
    },
    {
      "cell_type": "code",
      "metadata": {
        "id": "lmLAFbEVM-24",
        "colab": {
          "base_uri": "https://localhost:8080/"
        },
        "outputId": "c97dbae8-59bd-4797-fd65-2b0be58ca05c"
      },
      "source": [
        "recipt_text = info_text.split()\n",
        "recipt_text"
      ],
      "execution_count": 6,
      "outputs": [
        {
          "output_type": "execute_result",
          "data": {
            "text/plain": [
              "['RECEIPT',\n",
              " 'Terminal#t1',\n",
              " '01-02-2018',\n",
              " '11:32AM',\n",
              " '1xT-Shirt',\n",
              " '$25.50',\n",
              " '1x',\n",
              " 'Watches',\n",
              " '$299.00',\n",
              " '1x',\n",
              " 'Pants',\n",
              " '$32.99',\n",
              " '1x',\n",
              " 'Socks',\n",
              " '$6.50',\n",
              " 'TOTAL',\n",
              " 'AMOUNT',\n",
              " '$363.99',\n",
              " 'CASH',\n",
              " '$400.00',\n",
              " 'CHANGE',\n",
              " '$36.01',\n",
              " 'Bank',\n",
              " 'Card',\n",
              " 'HI',\n",
              " 'OEE',\n",
              " 'EE',\n",
              " 'IOI',\n",
              " 'Approvaltt',\n",
              " '192107',\n",
              " 'sence',\n",
              " 'THANK',\n",
              " 'YOU!',\n",
              " 'ences',\n",
              " 'INT']"
            ]
          },
          "metadata": {
            "tags": []
          },
          "execution_count": 6
        }
      ]
    },
    {
      "cell_type": "markdown",
      "metadata": {
        "id": "yheoxFzVY40w"
      },
      "source": [
        "### **1.5 Converting the text into lowercase**"
      ]
    },
    {
      "cell_type": "code",
      "metadata": {
        "id": "TyRNM4ZiXx0Z"
      },
      "source": [
        "\n",
        "for i in range(len(recipt_text)):\n",
        "   recipt_text[i] = recipt_text[i].lower()"
      ],
      "execution_count": 10,
      "outputs": []
    },
    {
      "cell_type": "markdown",
      "metadata": {
        "id": "nQjVLDb9ZC3U"
      },
      "source": [
        "### **1.6 User Input and Mapping**"
      ]
    },
    {
      "cell_type": "code",
      "metadata": {
        "colab": {
          "base_uri": "https://localhost:8080/"
        },
        "id": "QroNQlFiXWgZ",
        "outputId": "cb449e54-01f4-43d5-e664-4a186a2d4314"
      },
      "source": [
        "text = input()\n",
        "count = 0\n",
        "for i in recipt_text:\n",
        "  count+=1\n",
        "  if(i == text):\n",
        "    print(\"match\")\n",
        "    print(\"The overall cost of \" + text + \" is:  \" + recipt_text[count])\n",
        "    text_val = recipt_text[count]"
      ],
      "execution_count": 11,
      "outputs": [
        {
          "output_type": "stream",
          "text": [
            "change\n",
            "match\n",
            "The overall cost of change is:  $36.01\n"
          ],
          "name": "stdout"
        }
      ]
    },
    {
      "cell_type": "markdown",
      "metadata": {
        "id": "AUE-SXE5ZGda"
      },
      "source": [
        "### **1.7 Copying the text into Text File**"
      ]
    },
    {
      "cell_type": "code",
      "metadata": {
        "colab": {
          "base_uri": "https://localhost:8080/"
        },
        "id": "mL7FdeSsXmQr",
        "outputId": "2fba95e1-b98d-4042-d914-b33637f24c57"
      },
      "source": [
        "f = open(\"text.txt\", \"a\")\n",
        "f.write(text_val)\n",
        "f.close()\n",
        "\n",
        "f = open(\"text.txt\", \"r\")\n",
        "print(f.read())"
      ],
      "execution_count": 12,
      "outputs": [
        {
          "output_type": "stream",
          "text": [
            "$36.01\n"
          ],
          "name": "stdout"
        }
      ]
    },
    {
      "cell_type": "markdown",
      "metadata": {
        "id": "gysIMjQvZK6y"
      },
      "source": [
        "### **1.8 Converting to audio**"
      ]
    },
    {
      "cell_type": "code",
      "metadata": {
        "colab": {
          "base_uri": "https://localhost:8080/"
        },
        "id": "RHUGACrlX8ua",
        "outputId": "94ddf341-50ca-459c-cc56-ae5b3b1edde5"
      },
      "source": [
        "from gtts import gTTS\n",
        "\n",
        "import os\n",
        "\n",
        "f=open('text.txt')\n",
        "x=f.read()\n",
        "\n",
        "language='en'\n",
        "\n",
        "audio=gTTS(text=x,lang=language,slow=False)\n",
        "\n",
        "audio.save(\"1.wav\")\n",
        "os.system(\"1.wav\")"
      ],
      "execution_count": 15,
      "outputs": [
        {
          "output_type": "execute_result",
          "data": {
            "text/plain": [
              "32512"
            ]
          },
          "metadata": {
            "tags": []
          },
          "execution_count": 15
        }
      ]
    },
    {
      "cell_type": "markdown",
      "metadata": {
        "id": "Gtr64n-MZUQ6"
      },
      "source": [
        "## The End"
      ]
    },
    {
      "cell_type": "code",
      "metadata": {
        "id": "dUh943MrX-n0"
      },
      "source": [
        ""
      ],
      "execution_count": null,
      "outputs": []
    }
  ]
}