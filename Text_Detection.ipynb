{
  "nbformat": 4,
  "nbformat_minor": 0,
  "metadata": {
    "colab": {
      "name": "Text Detection.ipynb",
      "provenance": [],
      "authorship_tag": "ABX9TyN1mcP2O0MfjOSneaA68Qks",
      "include_colab_link": true
    },
    "kernelspec": {
      "name": "python3",
      "display_name": "Python 3"
    },
    "language_info": {
      "name": "python"
    },
    "accelerator": "TPU"
  },
  "cells": [
    {
      "cell_type": "markdown",
      "metadata": {
        "id": "view-in-github",
        "colab_type": "text"
      },
      "source": [
        "<a href=\"https://colab.research.google.com/github/AKHIL-882/Mini-Project/blob/main/Text_Detection.ipynb\" target=\"_parent\"><img src=\"https://colab.research.google.com/assets/colab-badge.svg\" alt=\"Open In Colab\"/></a>"
      ]
    },
    {
      "cell_type": "markdown",
      "metadata": {
        "id": "2ym8fJ0B7ycd"
      },
      "source": [
        "EasyOCR is a python package that allows the image to be converted to text. It is by far the easiest way to implement OCR and has access to over 70+ languages including English, Chinese, Japanese, Korean, Hindi, many more are being added. EasyOCR is created by the Jaided AI company"
      ]
    },
    {
      "cell_type": "markdown",
      "metadata": {
        "id": "uaYiPqOl72xc"
      },
      "source": [
        "### **1.1 Installing the EasyOCR**"
      ]
    },
    {
      "cell_type": "code",
      "metadata": {
        "colab": {
          "base_uri": "https://localhost:8080/"
        },
        "id": "OAnQZxWw5mzy",
        "outputId": "156b264f-f6de-4baa-a13f-1300ebe50ef4"
      },
      "source": [
        "!pip install easyocr"
      ],
      "execution_count": 1,
      "outputs": [
        {
          "output_type": "stream",
          "text": [
            "Collecting easyocr\n",
            "\u001b[?25l  Downloading https://files.pythonhosted.org/packages/6f/25/858a0245b7aa25ac955bff0e815551a27bde65f4f52a346b0fd3b8c3738e/easyocr-1.3.1-py3-none-any.whl (63.2MB)\n",
            "\u001b[K     |████████████████████████████████| 63.2MB 59kB/s \n",
            "\u001b[?25hRequirement already satisfied: opencv-python in /usr/local/lib/python3.7/dist-packages (from easyocr) (4.1.2.30)\n",
            "Requirement already satisfied: scikit-image in /usr/local/lib/python3.7/dist-packages (from easyocr) (0.16.2)\n",
            "Requirement already satisfied: torchvision>=0.5 in /usr/local/lib/python3.7/dist-packages (from easyocr) (0.9.1+cu101)\n",
            "Requirement already satisfied: torch in /usr/local/lib/python3.7/dist-packages (from easyocr) (1.8.1+cu101)\n",
            "Requirement already satisfied: Pillow in /usr/local/lib/python3.7/dist-packages (from easyocr) (7.1.2)\n",
            "Requirement already satisfied: PyYAML in /usr/local/lib/python3.7/dist-packages (from easyocr) (3.13)\n",
            "Requirement already satisfied: numpy in /usr/local/lib/python3.7/dist-packages (from easyocr) (1.19.5)\n",
            "Collecting python-bidi\n",
            "  Downloading https://files.pythonhosted.org/packages/33/b0/f942d146a2f457233baaafd6bdf624eba8e0f665045b4abd69d1b62d097d/python_bidi-0.4.2-py2.py3-none-any.whl\n",
            "Requirement already satisfied: scipy in /usr/local/lib/python3.7/dist-packages (from easyocr) (1.4.1)\n",
            "Requirement already satisfied: PyWavelets>=0.4.0 in /usr/local/lib/python3.7/dist-packages (from scikit-image->easyocr) (1.1.1)\n",
            "Requirement already satisfied: matplotlib!=3.0.0,>=2.0.0 in /usr/local/lib/python3.7/dist-packages (from scikit-image->easyocr) (3.2.2)\n",
            "Requirement already satisfied: imageio>=2.3.0 in /usr/local/lib/python3.7/dist-packages (from scikit-image->easyocr) (2.4.1)\n",
            "Requirement already satisfied: networkx>=2.0 in /usr/local/lib/python3.7/dist-packages (from scikit-image->easyocr) (2.5.1)\n",
            "Requirement already satisfied: typing-extensions in /usr/local/lib/python3.7/dist-packages (from torch->easyocr) (3.7.4.3)\n",
            "Requirement already satisfied: six in /usr/local/lib/python3.7/dist-packages (from python-bidi->easyocr) (1.15.0)\n",
            "Requirement already satisfied: pyparsing!=2.0.4,!=2.1.2,!=2.1.6,>=2.0.1 in /usr/local/lib/python3.7/dist-packages (from matplotlib!=3.0.0,>=2.0.0->scikit-image->easyocr) (2.4.7)\n",
            "Requirement already satisfied: kiwisolver>=1.0.1 in /usr/local/lib/python3.7/dist-packages (from matplotlib!=3.0.0,>=2.0.0->scikit-image->easyocr) (1.3.1)\n",
            "Requirement already satisfied: python-dateutil>=2.1 in /usr/local/lib/python3.7/dist-packages (from matplotlib!=3.0.0,>=2.0.0->scikit-image->easyocr) (2.8.1)\n",
            "Requirement already satisfied: cycler>=0.10 in /usr/local/lib/python3.7/dist-packages (from matplotlib!=3.0.0,>=2.0.0->scikit-image->easyocr) (0.10.0)\n",
            "Requirement already satisfied: decorator<5,>=4.3 in /usr/local/lib/python3.7/dist-packages (from networkx>=2.0->scikit-image->easyocr) (4.4.2)\n",
            "Installing collected packages: python-bidi, easyocr\n",
            "Successfully installed easyocr-1.3.1 python-bidi-0.4.2\n"
          ],
          "name": "stdout"
        }
      ]
    },
    {
      "cell_type": "markdown",
      "metadata": {
        "id": "RHAxPEY58CjD"
      },
      "source": [
        "### **1.2 Installing the required modules**"
      ]
    },
    {
      "cell_type": "code",
      "metadata": {
        "id": "i-0AqiiU6bSs"
      },
      "source": [
        "import matplotlib.pyplot as plt    #for visualization\n",
        "import cv2                         #open Cv module\n",
        "import easyocr                     #easyocr module\n",
        "from pylab import rcParams         #runtime configuration\n",
        "from IPython.display import Image  #image module\n",
        "rcParams['figure.figsize'] = 8, 16 #defining the image size"
      ],
      "execution_count": 2,
      "outputs": []
    },
    {
      "cell_type": "markdown",
      "metadata": {
        "id": "i6CKWMYB8pXK"
      },
      "source": [
        "### **1.3 Converting the text in to English readable format**"
      ]
    },
    {
      "cell_type": "code",
      "metadata": {
        "colab": {
          "base_uri": "https://localhost:8080/"
        },
        "id": "ClDkIpiB6zi4",
        "outputId": "4698ea87-ab03-4d18-8005-d34c3d8a2d6e"
      },
      "source": [
        "reader = easyocr.Reader(['en'])"
      ],
      "execution_count": 3,
      "outputs": [
        {
          "output_type": "stream",
          "text": [
            "CUDA not available - defaulting to CPU. Note: This module is much faster with a GPU.\n",
            "Downloading detection model, please wait. This may take several minutes depending upon your network connection.\n"
          ],
          "name": "stderr"
        },
        {
          "output_type": "stream",
          "text": [
            ""
          ],
          "name": "stdout"
        },
        {
          "output_type": "stream",
          "text": [
            "Downloading recognition model, please wait. This may take several minutes depending upon your network connection.\n"
          ],
          "name": "stderr"
        },
        {
          "output_type": "stream",
          "text": [
            ""
          ],
          "name": "stdout"
        }
      ]
    },
    {
      "cell_type": "markdown",
      "metadata": {
        "id": "mYk9MbBX9JaE"
      },
      "source": [
        "### **1.4 Displaying the Image**"
      ]
    },
    {
      "cell_type": "code",
      "metadata": {
        "colab": {
          "base_uri": "https://localhost:8080/",
          "height": 391
        },
        "id": "EjDdUUi565MU",
        "outputId": "a89aa534-849b-4c44-e6d8-984128a31f06"
      },
      "source": [
        "Image(\"1.jpg\")"
      ],
      "execution_count": 15,
      "outputs": [
        {
          "output_type": "execute_result",
          "data": {
            "image/jpeg": "[encoded data removed]",
            "text/plain": [
              "<IPython.core.display.Image object>"
            ]
          },
          "metadata": {
            "tags": []
          },
          "execution_count": 15
        }
      ]
    },
    {
      "cell_type": "markdown",
      "metadata": {
        "id": "RgABPyxc9W_T"
      },
      "source": [
        "### **1.5 Reading the Text from the Image**"
      ]
    },
    {
      "cell_type": "code",
      "metadata": {
        "id": "hkqUn-g47RGz"
      },
      "source": [
        "output = reader.readtext('1.jpg')"
      ],
      "execution_count": 16,
      "outputs": []
    },
    {
      "cell_type": "markdown",
      "metadata": {
        "id": "TSOrmP8e9hl1"
      },
      "source": [
        "###**1.6 Printing the Text**"
      ]
    },
    {
      "cell_type": "code",
      "metadata": {
        "colab": {
          "base_uri": "https://localhost:8080/"
        },
        "id": "HprErM-I7XpS",
        "outputId": "1c52300f-885e-4271-b166-1383b73056b3"
      },
      "source": [
        "output"
      ],
      "execution_count": 17,
      "outputs": [
        {
          "output_type": "execute_result",
          "data": {
            "text/plain": [
              "[([[85, 51], [437, 51], [437, 113], [85, 113]],\n",
              "  'HOW TO WRITE AlT',\n",
              "  0.7882892616878944),\n",
              " ([[105, 111], [417, 111], [417, 173], [105, 173]],\n",
              "  'TEXT AND IMAGE',\n",
              "  0.9381261125054322),\n",
              " ([[90, 170], [433, 170], [433, 234], [90, 234]],\n",
              "  'DESCRIPTIONS FOR',\n",
              "  0.9829631859771769),\n",
              " ([[129, 231], [391, 231], [391, 293], [129, 293]],\n",
              "  'THE VISUALLY',\n",
              "  0.8621342571016222),\n",
              " ([[168, 292], [352, 292], [352, 352], [168, 352]],\n",
              "  'IMPAIRED',\n",
              "  0.8022106758200537)]"
            ]
          },
          "metadata": {
            "tags": []
          },
          "execution_count": 17
        }
      ]
    },
    {
      "cell_type": "code",
      "metadata": {
        "id": "wJSsAJJZ_jqb"
      },
      "source": [
        ""
      ],
      "execution_count": null,
      "outputs": []
    }
  ]
}