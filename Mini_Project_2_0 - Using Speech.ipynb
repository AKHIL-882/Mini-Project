{
  "nbformat": 4,
  "nbformat_minor": 0,
  "metadata": {
    "colab": {
      "name": "Mini Project 2.0.ipynb",
      "provenance": [],
      "include_colab_link": true
    },
    "kernelspec": {
      "name": "python3",
      "display_name": "Python 3"
    },
    "language_info": {
      "name": "python"
    },
    "accelerator": "GPU"
  },
  "cells": [
    {
      "cell_type": "markdown",
      "metadata": {
        "id": "view-in-github",
        "colab_type": "text"
      },
      "source": [
        "<a href=\"https://colab.research.google.com/github/AKHIL-882/Mini-Project/blob/main/Mini_Project_2_0%20-%20Using%20Speech.ipynb\" target=\"_parent\"><img src=\"https://colab.research.google.com/assets/colab-badge.svg\" alt=\"Open In Colab\"/></a>"
      ]
    },
    {
      "cell_type": "markdown",
      "metadata": {
        "id": "sf3ZP7PTMe0k"
      },
      "source": [
        "### **1.1 User Speech as Input**"
      ]
    },
    {
      "cell_type": "code",
      "metadata": {
        "id": "2tYeJNoRMbzD"
      },
      "source": [
        "from speech_recognition import Microphone, Recognizer, AudioFile\n",
        "\n",
        "rec = Recognizer()\n",
        "mic = Microphone()\n",
        "\n",
        "with mic:\n",
        "    print(\"Talk Now\")\n",
        "    audio = rec.record(mic, 5)\n",
        "\n",
        "recognized = rec.recognize_google(audio)\n",
        "print(\"You said : \", recognized)\n",
        "\n",
        "\n"
      ],
      "execution_count": null,
      "outputs": []
    },
    {
      "cell_type": "markdown",
      "metadata": {
        "id": "xOtYM-kjV76u"
      },
      "source": [
        "### **1.2 Optional Case**"
      ]
    },
    {
      "cell_type": "code",
      "metadata": {
        "id": "jAiqWYhTNOGT"
      },
      "source": [
        "# As the speech is not working in colab, I have took a dummy speech\"\n",
        "recognized = \"Please! tell me the cost of 1xt-shirt\"\n"
      ],
      "execution_count": 91,
      "outputs": []
    },
    {
      "cell_type": "markdown",
      "metadata": {
        "id": "gL9sHprIMIsH"
      },
      "source": [
        "### **1.3 Converting Speech into token of array values**"
      ]
    },
    {
      "cell_type": "code",
      "metadata": {
        "colab": {
          "base_uri": "https://localhost:8080/"
        },
        "id": "4JKe-1pVMMVq",
        "outputId": "9799d545-c0da-4bd6-add7-83a1a5cacb36"
      },
      "source": [
        "arr = recognized.split()\n",
        "print(arr)"
      ],
      "execution_count": 92,
      "outputs": [
        {
          "output_type": "stream",
          "text": [
            "['Please!', 'tell', 'me', 'the', 'cost', 'of', '1xt-shirt']\n"
          ],
          "name": "stdout"
        }
      ]
    },
    {
      "cell_type": "markdown",
      "metadata": {
        "id": "8ChOs0tUSOal"
      },
      "source": [
        "### **1.4 Converting the image data in to array**"
      ]
    },
    {
      "cell_type": "code",
      "metadata": {
        "id": "54t32DcoN38g",
        "colab": {
          "base_uri": "https://localhost:8080/"
        },
        "outputId": "75c774bd-ae14-4a83-dd55-f7379c6f482d"
      },
      "source": [
        "\n",
        "#here L is the sample declaration of image data -  later I will merge\n",
        "l = ['Eeee', '4*444#44*', '4+444444', 'RECEIPT', '4444=', 'Terrinali]', '01-02-2018', 'I1,32AM', '1xT-Shirt', '525.50', '1x Watches', '5299.00', '1x Pants', '532.99', 'Ix Socks', '56.50', 'TOTAL AMOUNT', '5363.99', 'CASH', 'S400.00', 'CHANGE', '536.01', 'Bank Card', '7211', 'Approvaltt', '192107', '##rrta', 'THANK YOUI', '#iaiiriie']\n",
        "import numpy as np\n",
        "my_array = np.asarray(l)\n",
        "\n",
        "for i in range(len(my_array)):\n",
        "   my_array[i] = my_array[i].lower()\n",
        "\n",
        "\n",
        "print(my_array)\n",
        "print(type(my_array))\n"
      ],
      "execution_count": 93,
      "outputs": [
        {
          "output_type": "stream",
          "text": [
            "['eeee' '4*444#44*' '4+444444' 'receipt' '4444=' 'terrinali]' '01-02-2018'\n",
            " 'i1,32am' '1xt-shirt' '525.50' '1x watches' '5299.00' '1x pants' '532.99'\n",
            " 'ix socks' '56.50' 'total amount' '5363.99' 'cash' 's400.00' 'change'\n",
            " '536.01' 'bank card' '7211' 'approvaltt' '192107' '##rrta' 'thank youi'\n",
            " '#iaiiriie']\n",
            "<class 'numpy.ndarray'>\n"
          ],
          "name": "stdout"
        }
      ]
    },
    {
      "cell_type": "markdown",
      "metadata": {
        "id": "SYMU4x9TUtfk"
      },
      "source": [
        "### **1.5 Removing White spaces from the element values of Receipt**"
      ]
    },
    {
      "cell_type": "code",
      "metadata": {
        "colab": {
          "base_uri": "https://localhost:8080/"
        },
        "id": "UHdhJXu4Urze",
        "outputId": "ae4a3ed9-9473-4d6a-e3c9-43da9badcf44"
      },
      "source": [
        "my_array1 = []\n",
        "for i in my_array:\n",
        "    j = i.replace(' ','')\n",
        "    my_array1.append(j)\n",
        "\n",
        "print(my_array1)"
      ],
      "execution_count": 94,
      "outputs": [
        {
          "output_type": "stream",
          "text": [
            "['eeee', '4*444#44*', '4+444444', 'receipt', '4444=', 'terrinali]', '01-02-2018', 'i1,32am', '1xt-shirt', '525.50', '1xwatches', '5299.00', '1xpants', '532.99', 'ixsocks', '56.50', 'totalamount', '5363.99', 'cash', 's400.00', 'change', '536.01', 'bankcard', '7211', 'approvaltt', '192107', '##rrta', 'thankyoui', '#iaiiriie']\n"
          ],
          "name": "stdout"
        }
      ]
    },
    {
      "cell_type": "markdown",
      "metadata": {
        "id": "C2tApzZ5VyWf"
      },
      "source": [
        "### **1.6 Finding the match case and printing the output**"
      ]
    },
    {
      "cell_type": "code",
      "metadata": {
        "id": "5szPxAAFOVKE",
        "colab": {
          "base_uri": "https://localhost:8080/"
        },
        "outputId": "7ccd840f-863c-46d6-e2ec-bec32bb49477"
      },
      "source": [
        "for i in range(0,len(my_array)):\n",
        "  for j in range(0,len(arr)):\n",
        "    if(arr[j] == my_array[i]):\n",
        "      print(\"match\")\n",
        "      val = arr[j]\n",
        "      count = 0\n",
        "      for i in my_array:\n",
        "        count+=1\n",
        "        if(i == val):\n",
        "          print(\"The overall cost of \" + val + \" is:  \" + my_array[count])\n",
        "      break;\n",
        "      if(i==len(arr)):\n",
        "        i=0;\n",
        "      if(j==len(my_array)):\n",
        "        j=0;"
      ],
      "execution_count": 97,
      "outputs": [
        {
          "output_type": "stream",
          "text": [
            "match\n",
            "The overall cost of 1xt-shirt is:  525.50\n"
          ],
          "name": "stdout"
        }
      ]
    },
    {
      "cell_type": "code",
      "metadata": {
        "id": "UxPbA2USPMhd"
      },
      "source": [
        "\n",
        "\n"
      ],
      "execution_count": 83,
      "outputs": []
    },
    {
      "cell_type": "code",
      "metadata": {
        "id": "Qd6Qsf6CUI2G"
      },
      "source": [
        ""
      ],
      "execution_count": null,
      "outputs": []
    }
  ]
}