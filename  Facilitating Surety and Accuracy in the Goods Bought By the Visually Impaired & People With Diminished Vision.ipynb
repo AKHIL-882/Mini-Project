{
  "nbformat": 4,
  "nbformat_minor": 0,
  "metadata": {
    "colab": {
      "name": " Mini Project Team_Soul(Final) .ipynb",
      "provenance": [],
      "collapsed_sections": [],
      "include_colab_link": true
    },
    "kernelspec": {
      "display_name": "Python 3",
      "name": "python3"
    },
    "language_info": {
      "name": "python"
    }
  },
  "cells": [
    {
      "cell_type": "markdown",
      "metadata": {
        "id": "view-in-github",
        "colab_type": "text"
      },
      "source": [
        "<a href=\"https://colab.research.google.com/github/AKHIL-882/Mini-Project/blob/main/%20Facilitating%20Surety%20and%20Accuracy%20in%20the%20Goods%20Bought%20By%20the%20Visually%20Impaired%20%26%20People%20With%20Diminished%20Vision.ipynb\" target=\"_parent\"><img src=\"https://colab.research.google.com/assets/colab-badge.svg\" alt=\"Open In Colab\"/></a>"
      ]
    },
    {
      "cell_type": "markdown",
      "metadata": {
        "id": "B8l-9viKYXSd"
      },
      "source": [
        "### **1.1 Installing the required libraries**"
      ]
    },
    {
      "cell_type": "code",
      "metadata": {
        "colab": {
          "base_uri": "https://localhost:8080/"
        },
        "id": "vp36yvTewTuH",
        "outputId": "589757d2-fc20-4ba7-c74e-3e773c5406a7"
      },
      "source": [
        "!sudo apt install tesseract-ocr\n",
        "!pip install pytesseract\n",
        "!pip install gTTS"
      ],
      "execution_count": null,
      "outputs": [
        {
          "output_type": "stream",
          "text": [
            "Reading package lists... Done\n",
            "Building dependency tree       \n",
            "Reading state information... Done\n",
            "The following additional packages will be installed:\n",
            "  tesseract-ocr-eng tesseract-ocr-osd\n",
            "The following NEW packages will be installed:\n",
            "  tesseract-ocr tesseract-ocr-eng tesseract-ocr-osd\n",
            "0 upgraded, 3 newly installed, 0 to remove and 39 not upgraded.\n",
            "Need to get 4,795 kB of archives.\n",
            "After this operation, 15.8 MB of additional disk space will be used.\n",
            "Get:1 http://archive.ubuntu.com/ubuntu bionic/universe amd64 tesseract-ocr-eng all 4.00~git24-0e00fe6-1.2 [1,588 kB]\n",
            "Get:2 http://archive.ubuntu.com/ubuntu bionic/universe amd64 tesseract-ocr-osd all 4.00~git24-0e00fe6-1.2 [2,989 kB]\n",
            "Get:3 http://archive.ubuntu.com/ubuntu bionic/universe amd64 tesseract-ocr amd64 4.00~git2288-10f4998a-2 [218 kB]\n",
            "Fetched 4,795 kB in 1s (5,401 kB/s)\n",
            "debconf: unable to initialize frontend: Dialog\n",
            "debconf: (No usable dialog-like program is installed, so the dialog based frontend cannot be used. at /usr/share/perl5/Debconf/FrontEnd/Dialog.pm line 76, <> line 3.)\n",
            "debconf: falling back to frontend: Readline\n",
            "debconf: unable to initialize frontend: Readline\n",
            "debconf: (This frontend requires a controlling tty.)\n",
            "debconf: falling back to frontend: Teletype\n",
            "dpkg-preconfigure: unable to re-open stdin: \n",
            "Selecting previously unselected package tesseract-ocr-eng.\n",
            "(Reading database ... 160772 files and directories currently installed.)\n",
            "Preparing to unpack .../tesseract-ocr-eng_4.00~git24-0e00fe6-1.2_all.deb ...\n",
            "Unpacking tesseract-ocr-eng (4.00~git24-0e00fe6-1.2) ...\n",
            "Selecting previously unselected package tesseract-ocr-osd.\n",
            "Preparing to unpack .../tesseract-ocr-osd_4.00~git24-0e00fe6-1.2_all.deb ...\n",
            "Unpacking tesseract-ocr-osd (4.00~git24-0e00fe6-1.2) ...\n",
            "Selecting previously unselected package tesseract-ocr.\n",
            "Preparing to unpack .../tesseract-ocr_4.00~git2288-10f4998a-2_amd64.deb ...\n",
            "Unpacking tesseract-ocr (4.00~git2288-10f4998a-2) ...\n",
            "Setting up tesseract-ocr-osd (4.00~git24-0e00fe6-1.2) ...\n",
            "Setting up tesseract-ocr-eng (4.00~git24-0e00fe6-1.2) ...\n",
            "Setting up tesseract-ocr (4.00~git2288-10f4998a-2) ...\n",
            "Processing triggers for man-db (2.8.3-2ubuntu0.1) ...\n",
            "Collecting pytesseract\n",
            "  Downloading https://files.pythonhosted.org/packages/a3/c9/d6e8903482bd6fb994c32722831d15842dd8b614f94ad9ca735807252671/pytesseract-0.3.8.tar.gz\n",
            "Requirement already satisfied: Pillow in /usr/local/lib/python3.7/dist-packages (from pytesseract) (7.1.2)\n",
            "Building wheels for collected packages: pytesseract\n",
            "  Building wheel for pytesseract (setup.py) ... \u001b[?25l\u001b[?25hdone\n",
            "  Created wheel for pytesseract: filename=pytesseract-0.3.8-py2.py3-none-any.whl size=14071 sha256=9138ca232c21373e5d8e9d5486ac4dff1eee3afc74af292695676268a5610ba5\n",
            "  Stored in directory: /root/.cache/pip/wheels/a2/66/45/88bf1b2d428817a006944b9730b27d6861b776e05a9e262bd4\n",
            "Successfully built pytesseract\n",
            "Installing collected packages: pytesseract\n",
            "Successfully installed pytesseract-0.3.8\n",
            "ERROR: unknown command \"gTTS\"\n"
          ],
          "name": "stdout"
        }
      ]
    },
    {
      "cell_type": "markdown",
      "metadata": {
        "id": "OX9MxwwaYjtJ"
      },
      "source": [
        "### **1.2 Importing the required modules**"
      ]
    },
    {
      "cell_type": "code",
      "metadata": {
        "id": "qm9mor4mwRoM"
      },
      "source": [
        "import pytesseract\n",
        "import numpy as np\n",
        "import cv2\n",
        "import math\n",
        "from scipy import ndimage\n",
        "import re\n",
        "# import shutil\n",
        "# import os\n",
        "# import random\n",
        "# try:\n",
        "#  from PIL import Image\n",
        "# except ImportError:\n",
        "#  import Image"
      ],
      "execution_count": null,
      "outputs": []
    },
    {
      "cell_type": "code",
      "metadata": {
        "id": "OgW4_aS_Foqj"
      },
      "source": [
        "\n",
        "#code for calculating the angle of image\n",
        "def angle_calculation(image):\n",
        "  img_before=image \n",
        "  key = cv2.waitKey(0)\n",
        "  img_gray = cv2.cvtColor(img_before, cv2.COLOR_BGR2GRAY)\n",
        "  img_edges = cv2.Canny(img_gray, 100, 100, apertureSize=3)\n",
        "  lines = cv2.HoughLinesP(img_edges, 1, math.pi / 180.0, 100, minLineLength=100, maxLineGap=5)\n",
        "  angles = []\n",
        "  for [[x1, y1, x2, y2]] in lines:\n",
        "      angle = math.degrees(math.atan2(y2 - y1, x2 - x1))\n",
        "      angles.append(angle)   \n",
        "  key = cv2.waitKey(0)\n",
        "  median_angle = np.median(angles)\n",
        "  angle=int(angle)\n",
        "  median_angle=int(median_angle)\n",
        "  return angle,median_angle"
      ],
      "execution_count": null,
      "outputs": []
    },
    {
      "cell_type": "code",
      "metadata": {
        "id": "vIg5jmiZCRqs",
        "colab": {
          "base_uri": "https://localhost:8080/"
        },
        "outputId": "8818fe14-84d0-4691-b21d-2d571f7b02d6"
      },
      "source": [
        "#input image\n",
        "\n",
        "img_before= cv2.imread('7.jpeg')\n",
        "try:\n",
        "  #return error if image doenot contain the data \n",
        "  angle,median_angle=angle_calculation(img_before)\n",
        " # print(\" angle is\",angle)\n",
        "  #print(\"median angle\",median_angle)\n",
        "except:\n",
        "  #saying the user to turn the image\n",
        "  print(\"Please turn the image and recapture\")\n",
        "\n",
        "\n",
        "\n",
        "\n",
        "else:\n",
        "  if(median_angle == 90 or median_angle== -90 ):\n",
        "    img_before = ndimage.rotate(img_before, 90)\n",
        "  \n",
        "  \n",
        "  try:\n",
        "    \n",
        "    newdata=pytesseract.image_to_osd(img_before)\n",
        "    #newdata=pysseract.image_to_osd(img_before)\n",
        "    #print(newdata)\n",
        "    a=re.search('(?<=Rotate: )\\d+', newdata).group(0)\n",
        "    #print(\"rotation\")\n",
        "      \n",
        "  except:\n",
        "      print(\"Dip of image is not good Please insert proper image\")\n",
        "  else:  \n",
        "      if(angle >=-5 and angle <=5):\n",
        "          #img_before = ndimage.rotate(img_before,90)   \n",
        "          angle=360-int(re.search('(?<=Rotate: )\\d+', pytesseract.image_to_osd(img_before)).group(0))  \n",
        "          (h, w) = img_before.shape[:2]   \n",
        "          center = (w / 2, h / 2)\n",
        "          # Perform the rotation\n",
        "          M = cv2.getRotationMatrix2D(center, angle, scale=1.0)\n",
        "          img_rotated=ndimage.rotate(img_before, float(angle) * -1)\n",
        "          cv2.imwrite('rotated.jpg', img_rotated)\n",
        "          path='rotated.jpg'\n",
        "          info_text = pytesseract.image_to_string(Image.open(path))\n",
        "         # print(info_text)          \n",
        "              \n",
        "      else:   \n",
        "        img_rotated = ndimage.rotate(img_before, median_angle)\n",
        "        cv2.imwrite('rotated.jpg', img_rotated) \n",
        "        #print(\"after rotation\")  \n",
        "        cv2.waitKey(0)\n",
        "        cv2.destroyAllWindows()\n",
        "        #cropping rotated image\n",
        "        image=Image.open('rotated.jpg')\n",
        "        image.load()\n",
        "        image_data = np.asarray(image)\n",
        "        image_data_bw = image_data.max(axis=2)\n",
        "        non_empty_columns = np.where(image_data_bw.max(axis=0)>0)[0]\n",
        "        non_empty_rows = np.where(image_data_bw.max(axis=1)>0)[0]\n",
        "        cropBox = (min(non_empty_rows), max(non_empty_rows), min(non_empty_columns), max(non_empty_columns))\n",
        "        image_data_new = image_data[cropBox[0]:cropBox[1]+1, cropBox[2]:cropBox[3]+1 , :]\n",
        "        new_image = Image.fromarray(image_data_new)\n",
        "        new_image.save('rotated.jpg')\n",
        "        res=cv2.imread('rotated.jpg')\n",
        "        angle,median_angle=angle_calculation(res)\n",
        "        #print(\"rotated angle\",angle)\n",
        "        try:\n",
        "          #after rotation if the image is in different angles other than zero then it shows error\n",
        "          new=pytesseract.image_to_osd(res)\n",
        "          a=re.search('(?<=Rotate: )\\d+', new).group(0)\n",
        "          print(\"rotation\",a)\n",
        "          a=int(a)\n",
        "          #if the rotated image is in inversed manner after rotation then we are rotating again\n",
        "          if(a== 180):\n",
        "            img_rotated = ndimage.rotate(res, 180)\n",
        "            cv2.imwrite('rotated.jpg', img_rotated)        \n",
        "        except:\n",
        "          print(\"Please recapture the image properly\")\n",
        "        else:\n",
        "          path='rotated.jpg'\n",
        "          info_text = pytesseract.image_to_string(Image.open(path))\n",
        "          print(info_text)\n",
        "\n",
        "\n"
      ],
      "execution_count": null,
      "outputs": [
        {
          "output_type": "stream",
          "text": [
            " angle is 0\n",
            "Page number: 0\n",
            "Orientation in degrees: 0\n",
            "Rotate: 0\n",
            "Orientation confidence: 0.58\n",
            "Script: Latin\n",
            "Script confidence: 2.67\n",
            "\n",
            "rotation\n",
            " \n",
            "\n",
            "MADINA\n",
            "DEST CURRY CO.\n",
            "\n",
            "ADNAN REG MADINA 1\n",
            "TUESDAY 26 JULY 2017 18:21 231862\n",
            "\n",
            "‘ORDER NO: 18\n",
            "\n",
            "UPSTAIRS\n",
            "\n",
            " \n",
            "\n",
            "   \n",
            "\n",
            " \n",
            "\n",
            "   \n",
            "\n",
            "Y\n",
            "1 CHICKEN BIRYANI 4.95\n",
            "1 WASALA DOSA 4.95\n",
            "1 UTTAPHAM £4.95,\n",
            "SUBTOTAL 14.85\n",
            "No\n",
            "TOTAL €14.85\n",
            "‘cas 14.85\n",
            "\n",
            "‘A-NEW GENERATION OF ASIAN FUSION\n",
            "FAST-FOOD RESTAURANTS\n",
            "THANK YOU FOR YOUR CUSTOM\n",
            "\f\n"
          ],
          "name": "stdout"
        }
      ]
    },
    {
      "cell_type": "code",
      "metadata": {
        "id": "Ati4htJec-VH"
      },
      "source": [
        ""
      ],
      "execution_count": null,
      "outputs": []
    },
    {
      "cell_type": "markdown",
      "metadata": {
        "id": "FXShc4f5YoNV"
      },
      "source": [
        "### **1.3 Text Detection from Image**"
      ]
    },
    {
      "cell_type": "code",
      "metadata": {
        "id": "4Af_RSkSSp9n",
        "colab": {
          "base_uri": "https://localhost:8080/"
        },
        "outputId": "96738917-4000-44c6-ffd5-5a9213af135b"
      },
      "source": [
        "\n",
        "path='rotated.jpg'\n",
        "info_text = pytesseract.image_to_string(Image.open(path))\n",
        "print(info_text)"
      ],
      "execution_count": null,
      "outputs": [
        {
          "output_type": "stream",
          "text": [
            " \n",
            "\n",
            "MADINA\n",
            "DEST CURRY CO.\n",
            "\n",
            "ADNAN REG MADINA 1\n",
            "TUESDAY 26 JULY 2017 18:21 231862\n",
            "\n",
            "‘ORDER NO: 18\n",
            "\n",
            "UPSTAIRS\n",
            "\n",
            " \n",
            "\n",
            "   \n",
            "\n",
            " \n",
            "\n",
            "   \n",
            "\n",
            "Y\n",
            "1 CHICKEN BIRYANI 4.95\n",
            "1 WASALA DOSA 4.95\n",
            "1 UTTAPHAM £4.95,\n",
            "SUBTOTAL 14.85\n",
            "No\n",
            "TOTAL €14.85\n",
            "‘cas 14.85\n",
            "\n",
            "‘A-NEW GENERATION OF ASIAN FUSION\n",
            "FAST-FOOD RESTAURANTS\n",
            "THANK YOU FOR YOUR CUSTOM\n",
            "\f\n"
          ],
          "name": "stdout"
        }
      ]
    },
    {
      "cell_type": "code",
      "metadata": {
        "id": "NCHxMGugdhsY"
      },
      "source": [
        ""
      ],
      "execution_count": null,
      "outputs": []
    },
    {
      "cell_type": "code",
      "metadata": {
        "id": "eqgHI6-aaLPv"
      },
      "source": [
        " #I have took a dummy speech\"\n",
        "\n",
        " #Request from user through Speech\n",
        "recognized = \"Please! tell cost of cash\""
      ],
      "execution_count": null,
      "outputs": []
    },
    {
      "cell_type": "code",
      "metadata": {
        "id": "UUyCU29QCUrC",
        "colab": {
          "base_uri": "https://localhost:8080/"
        },
        "outputId": "31ae352f-76b6-4e2a-fadc-4710fc480172"
      },
      "source": [
        "def Convert(string):\n",
        "\tli = list(string.split(\" \"))\n",
        "\treturn li\n",
        "li = Convert(recognized)\n",
        "print(li)\n"
      ],
      "execution_count": null,
      "outputs": [
        {
          "output_type": "stream",
          "text": [
            "['Please!', 'tell', 'cost', 'of', 'cash']\n"
          ],
          "name": "stdout"
        }
      ]
    },
    {
      "cell_type": "code",
      "metadata": {
        "id": "rxBNj70fC2aZ",
        "colab": {
          "base_uri": "https://localhost:8080/"
        },
        "outputId": "d2081883-6840-4229-8cac-d86cd6486d20"
      },
      "source": [
        "\n",
        "articles = {'a','of','only','for','an','the','please','what','is','cost','price','rate','money','Please!', 'tell','give','output','value' ,'','How','much','How','Much'}\n",
        "\n",
        "li = [ele for ele in li if ele not in articles]\n",
        "print(li)\n"
      ],
      "execution_count": null,
      "outputs": [
        {
          "output_type": "stream",
          "text": [
            "['cash']\n"
          ],
          "name": "stdout"
        }
      ]
    },
    {
      "cell_type": "code",
      "metadata": {
        "colab": {
          "base_uri": "https://localhost:8080/"
        },
        "id": "uR9asnPXqlcj",
        "outputId": "f7d2354a-8cec-4fcf-dfb9-1327328b8275"
      },
      "source": [
        "\n",
        "#appending list to a string\n",
        "item=\"\"\n",
        "for x in li:\n",
        "  item=item+\" \"+ x\n",
        "#to remove leading and trailing spaces\n",
        "item=item.strip()\n",
        "print(item)\n"
      ],
      "execution_count": null,
      "outputs": [
        {
          "output_type": "stream",
          "text": [
            "cash\n"
          ],
          "name": "stdout"
        }
      ]
    },
    {
      "cell_type": "code",
      "metadata": {
        "colab": {
          "base_uri": "https://localhost:8080/"
        },
        "id": "uIi1y4sao5My",
        "outputId": "fcd081f6-cede-4729-e481-70afaafa2986"
      },
      "source": [
        "#preprocessing The Recognized Text\n",
        "info_text=info_text.replace('\\n','  ')\n",
        "info_text=info_text.replace('-','')\n",
        "info_text=info_text.lower()\n",
        "info_text=info_text.strip()\n",
        "\n",
        "print(info_text)"
      ],
      "execution_count": null,
      "outputs": [
        {
          "output_type": "stream",
          "text": [
            "madina  dest curry co.    adnan reg madina 1  tuesday 26 july 2017 18:21 231862    ‘order no: 18    upstairs                            y  1 chicken biryani 4.95  1 wasala dosa 4.95  1 uttapham £4.95,  subtotal 14.85  no  total €14.85  ‘cas 14.85    ‘anew generation of asian fusion  fastfood restaurants  thank you for your custom\n"
          ],
          "name": "stdout"
        }
      ]
    },
    {
      "cell_type": "code",
      "metadata": {
        "colab": {
          "base_uri": "https://localhost:8080/"
        },
        "id": "oYTaszso1lLH",
        "outputId": "e9f3e142-beb6-43fb-910a-fadfaf4ee5bb"
      },
      "source": [
        "import re\n",
        "w11=[]\n",
        "#For searching the exact item\n",
        "r4=re.compile(r'(\\s*)' + item + r'(\\s*[\\£\\$]?\\s*[\\.|\\:]?\\s*((\\d+\\s?\\.\\s?\\d+)|(\\d+))\\s*)')  \n",
        "for x in r4.finditer(info_text):       \n",
        "        print(x)\n",
        "        st=x.span()[0]\n",
        "        en=x.span()[1]\n",
        "        w11.append(info_text[st:en])\n",
        "print(w11)"
      ],
      "execution_count": null,
      "outputs": [
        {
          "output_type": "stream",
          "text": [
            "[]\n"
          ],
          "name": "stdout"
        }
      ]
    },
    {
      "cell_type": "code",
      "metadata": {
        "id": "ZYaDxU6OIsOB",
        "colab": {
          "base_uri": "https://localhost:8080/"
        },
        "outputId": "4cdefae5-735d-482b-9a44-7e7679935e51"
      },
      "source": [
        "#if the item is fry and  info_text=\"chicken fry biryani 4.5 chicken dum biryani 2.3 \"\n",
        "# then it gives chicken fry biryani as output\n",
        "#if item is chicken and  info_text=\"chicken fry biryani 4.5 chicken dum biryani 2.3 \"\n",
        "# it gives 'chicken fry biryani 4.5', ' chicken dum biryani 2.3' as output\n",
        "\n",
        "v = re.compile(r'(\\s?[0-9]*[A-Za-z]*\\s*)?'+item+r'(\\s*[A-Za-z]*\\s*[A-Za-z]*[\\£\\$]?\\s*[\\.|\\:]?\\s*((\\d+\\s?\\.\\s?\\d+)|(\\d+)))')\n",
        "w11=[]\n",
        "for x in v.finditer(info_text):\n",
        "  st=x.span()[0]\n",
        "  en=x.span()[1]\n",
        "  w11.append(info_text[st:en])\n",
        "print(w11)\n"
      ],
      "execution_count": null,
      "outputs": [
        {
          "output_type": "stream",
          "text": [
            "[]\n"
          ],
          "name": "stdout"
        }
      ]
    },
    {
      "cell_type": "code",
      "metadata": {
        "colab": {
          "base_uri": "https://localhost:8080/"
        },
        "id": "OQlxNvatp2eU",
        "outputId": "77feddf1-8234-4190-a7db-e644ac9518ab"
      },
      "source": [
        "\n",
        "#if text is chicken 4.5 chicken dum biryani 2.3 and item is chicken biryani then \n",
        "# output chicken 4.5 biryani 2.3 will be given\n",
        "#here li is  list which conatins the chicken , biryani as threee items \n",
        "#l=lenght of list\n",
        "l=len(li)\n",
        "def search(w11,item):\n",
        "  s=item\n",
        "  s=str(s)\n",
        "  r4=re.compile(s+ r'(\\s*[\\£\\$]?\\s*[\\.|\\:]?\\s*((\\d+\\s?\\.\\s?\\d+)|(\\d+)))')   \n",
        "  for x in r4.finditer(info_text):\n",
        "      #print(x)\n",
        "      st=x.span()[0]\n",
        "      en=x.span()[1]\n",
        "      w11.append(info_text[st:en])  \n",
        "  return w11\n",
        "i=0\n",
        "j=l\n",
        "output=[]\n",
        "w11=[]\n",
        "while i<j:\n",
        "  output=search(w11,li[i])    \n",
        "  i+=1\n",
        "print(output)"
      ],
      "execution_count": null,
      "outputs": [
        {
          "output_type": "stream",
          "text": [
            "[]\n"
          ],
          "name": "stdout"
        }
      ]
    },
    {
      "cell_type": "code",
      "metadata": {
        "colab": {
          "base_uri": "https://localhost:8080/"
        },
        "id": "ks8ZluOJfvgD",
        "outputId": "f26f1eab-f4d9-40b7-b214-885c53b58662"
      },
      "source": [
        "# if item=\"ickeny\" then it will return chicken biryani\n",
        "#To Search half of the item\n",
        "n=len(item)\n",
        "print(n)\n",
        "if(n>=5):\n",
        "  n=n/2\n",
        "  n=int(n)\n",
        "  item=item[1:n]  \n",
        "else:\n",
        "  item=item[1:n-1]\n",
        "  print(item)\n",
        "v = re.compile(r'(\\s?[0-9]*[A-Za-z]*\\s*)?'+item+r'(\\s*[A-Za-z]*\\s*[A-Za-z]*[\\£\\$]?\\s*[\\.|\\:]?\\s*((\\d+\\s?\\.\\s?\\d+)|(\\d+)))')\n",
        "w11=[]\n",
        "for x in v.finditer(info_text):\n",
        "  st=x.span()[0]\n",
        "  en=x.span()[1]\n",
        "  w11.append(info_text[st:en])\n",
        "print(w11)"
      ],
      "execution_count": null,
      "outputs": [
        {
          "output_type": "stream",
          "text": [
            "6\n",
            "[' chicken biryani 4.95']\n"
          ],
          "name": "stdout"
        }
      ]
    },
    {
      "cell_type": "code",
      "metadata": {
        "id": "9R_bQ_0UyMUw",
        "colab": {
          "base_uri": "https://localhost:8080/"
        },
        "outputId": "e994368a-1dbd-4000-8f1a-5a669ef505e3"
      },
      "source": [
        "import re\n",
        "def dates(data):\n",
        "    p=re.compile(r'\\d{2}\\s?(January|February|March|April|May|June|July|August|September|October|November|December|jan|feb|mar|jun|aug|sept|nov|dec)\\s?\\d{2,4}(\\s?)?',re.IGNORECASE)\n",
        "    r2=re.compile(r'(\\d{4}[\\/\\-]\\d{2}[\\-\\/]\\d{2})|(\\d{2}[\\-\\/]\\d{2}[\\/\\-]\\d{4})')\n",
        "    r3=re.compile(r'\\d{4}\\-\\d{2,4}')\n",
        "    r4=re.compile(r'(January|February|March|April|May|June|July|August|September|October|November|Decembe|jan|feb|mar|jun|aug|sept|nov|decr)\\s?\\d{2,4}(\\s?)?',re.IGNORECASE)\n",
        "    w11=[]\n",
        "    c=0\n",
        "    for x in p.finditer(data):\n",
        "        c=c+1\n",
        "        st=x.span()[0]\n",
        "        en=x.span()[1]\n",
        "        w11.append(data[st:en])\n",
        "    for x in r2.finditer(data):\n",
        "        print(x)\n",
        "        st=x.span()[0]\n",
        "        en=x.span()[1]\n",
        "        w11.append(data[st:en])\n",
        "    for x in r3.finditer(data):\n",
        "        print(x)\n",
        "        st=x.span()[0]\n",
        "        en=x.span()[1]\n",
        "        w11.append(data[st:en])\n",
        "    if c==0:\n",
        "      for x in r4.finditer(data):\n",
        "          print(x)\n",
        "          st=x.span()[0]\n",
        "          en=x.span()[1]\n",
        "          w11.append(data[st:en])\n",
        "    return w11\n",
        "res=dates(info_text)\n",
        "print(res)"
      ],
      "execution_count": null,
      "outputs": [
        {
          "output_type": "stream",
          "text": [
            "['26 july 2017 ']\n"
          ],
          "name": "stdout"
        }
      ]
    },
    {
      "cell_type": "code",
      "metadata": {
        "colab": {
          "base_uri": "https://localhost:8080/"
        },
        "id": "O3RA3AwiSWvT",
        "outputId": "a2e122e2-6f02-4e3e-dd69-fb382ef9e32c"
      },
      "source": [
        "def time(data):\n",
        "    p=re.compile(r'\\s?\\d{2}\\s?\\:\\s?\\d{2}\\s?')\n",
        "    time=[]\n",
        "    for x in p.finditer(data):\n",
        "        print(x)\n",
        "        st=x.span()[0]\n",
        "        en=x.span()[1]\n",
        "        time.append(data[st:en])\n",
        "    return time\n",
        "time=time(info_text)\n",
        "print(time)"
      ],
      "execution_count": null,
      "outputs": [
        {
          "output_type": "stream",
          "text": [
            "<re.Match object; span=(66, 73), match=' 18:21 '>\n",
            "[' 18:21 ']\n"
          ],
          "name": "stdout"
        }
      ]
    }
  ]
}