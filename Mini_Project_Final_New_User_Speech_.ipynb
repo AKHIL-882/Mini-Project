{
  "nbformat": 4,
  "nbformat_minor": 0,
  "metadata": {
    "accelerator": "GPU",
    "colab": {
      "name": "Mini Project Final_New-User Speech .ipynb",
      "provenance": [],
      "toc_visible": true,
      "authorship_tag": "ABX9TyOjbuqtGA2jefxAD1pH5utz",
      "include_colab_link": true
    },
    "kernelspec": {
      "display_name": "Python 3",
      "name": "python3"
    },
    "language_info": {
      "name": "python"
    }
  },
  "cells": [
    {
      "cell_type": "markdown",
      "metadata": {
        "id": "view-in-github",
        "colab_type": "text"
      },
      "source": [
        "<a href=\"https://colab.research.google.com/github/AKHIL-882/Mini-Project/blob/main/Mini_Project_Final_New_User_Speech_.ipynb\" target=\"_parent\"><img src=\"https://colab.research.google.com/assets/colab-badge.svg\" alt=\"Open In Colab\"/></a>"
      ]
    },
    {
      "cell_type": "markdown",
      "metadata": {
        "id": "B8l-9viKYXSd"
      },
      "source": [
        "### **1.1 Installing the required libraries**"
      ]
    },
    {
      "cell_type": "code",
      "metadata": {
        "colab": {
          "base_uri": "https://localhost:8080/"
        },
        "id": "vp36yvTewTuH",
        "outputId": "42f098fe-dff1-49f3-8d56-2f64f7eecdfe"
      },
      "source": [
        "!sudo apt install tesseract-ocr\n",
        "!pip install pytesseract\n",
        "!pip install gtts"
      ],
      "execution_count": 1,
      "outputs": [
        {
          "output_type": "stream",
          "text": [
            "Reading package lists... Done\n",
            "Building dependency tree       \n",
            "Reading state information... Done\n",
            "The following package was automatically installed and is no longer required:\n",
            "  libnvidia-common-460\n",
            "Use 'sudo apt autoremove' to remove it.\n",
            "The following additional packages will be installed:\n",
            "  tesseract-ocr-eng tesseract-ocr-osd\n",
            "The following NEW packages will be installed:\n",
            "  tesseract-ocr tesseract-ocr-eng tesseract-ocr-osd\n",
            "0 upgraded, 3 newly installed, 0 to remove and 34 not upgraded.\n",
            "Need to get 4,795 kB of archives.\n",
            "After this operation, 15.8 MB of additional disk space will be used.\n",
            "Get:1 http://archive.ubuntu.com/ubuntu bionic/universe amd64 tesseract-ocr-eng all 4.00~git24-0e00fe6-1.2 [1,588 kB]\n",
            "Get:2 http://archive.ubuntu.com/ubuntu bionic/universe amd64 tesseract-ocr-osd all 4.00~git24-0e00fe6-1.2 [2,989 kB]\n",
            "Get:3 http://archive.ubuntu.com/ubuntu bionic/universe amd64 tesseract-ocr amd64 4.00~git2288-10f4998a-2 [218 kB]\n",
            "Fetched 4,795 kB in 1s (4,521 kB/s)\n",
            "debconf: unable to initialize frontend: Dialog\n",
            "debconf: (No usable dialog-like program is installed, so the dialog based frontend cannot be used. at /usr/share/perl5/Debconf/FrontEnd/Dialog.pm line 76, <> line 3.)\n",
            "debconf: falling back to frontend: Readline\n",
            "debconf: unable to initialize frontend: Readline\n",
            "debconf: (This frontend requires a controlling tty.)\n",
            "debconf: falling back to frontend: Teletype\n",
            "dpkg-preconfigure: unable to re-open stdin: \n",
            "Selecting previously unselected package tesseract-ocr-eng.\n",
            "(Reading database ... 160706 files and directories currently installed.)\n",
            "Preparing to unpack .../tesseract-ocr-eng_4.00~git24-0e00fe6-1.2_all.deb ...\n",
            "Unpacking tesseract-ocr-eng (4.00~git24-0e00fe6-1.2) ...\n",
            "Selecting previously unselected package tesseract-ocr-osd.\n",
            "Preparing to unpack .../tesseract-ocr-osd_4.00~git24-0e00fe6-1.2_all.deb ...\n",
            "Unpacking tesseract-ocr-osd (4.00~git24-0e00fe6-1.2) ...\n",
            "Selecting previously unselected package tesseract-ocr.\n",
            "Preparing to unpack .../tesseract-ocr_4.00~git2288-10f4998a-2_amd64.deb ...\n",
            "Unpacking tesseract-ocr (4.00~git2288-10f4998a-2) ...\n",
            "Setting up tesseract-ocr-osd (4.00~git24-0e00fe6-1.2) ...\n",
            "Setting up tesseract-ocr-eng (4.00~git24-0e00fe6-1.2) ...\n",
            "Setting up tesseract-ocr (4.00~git2288-10f4998a-2) ...\n",
            "Processing triggers for man-db (2.8.3-2ubuntu0.1) ...\n",
            "Collecting pytesseract\n",
            "  Downloading https://files.pythonhosted.org/packages/a0/e6/a4e9fc8a93c1318540e8de6d8d4beb5749b7960388a7c7f27799fc2dd016/pytesseract-0.3.7.tar.gz\n",
            "Requirement already satisfied: Pillow in /usr/local/lib/python3.7/dist-packages (from pytesseract) (7.1.2)\n",
            "Building wheels for collected packages: pytesseract\n",
            "  Building wheel for pytesseract (setup.py) ... \u001b[?25l\u001b[?25hdone\n",
            "  Created wheel for pytesseract: filename=pytesseract-0.3.7-py2.py3-none-any.whl size=13945 sha256=f32222b69050b4103d4bc2de9f7e7ba77328ef189dcfa260bd0f79ab7401b435\n",
            "  Stored in directory: /root/.cache/pip/wheels/81/20/7e/1dd0daad1575d5260916bb1e9781246430647adaef4b3ca3b3\n",
            "Successfully built pytesseract\n",
            "Installing collected packages: pytesseract\n",
            "Successfully installed pytesseract-0.3.7\n",
            "Collecting gtts\n",
            "  Downloading https://files.pythonhosted.org/packages/5f/b9/94e59337107be134b21ce395a29fc0715b707b560108d6797de2d93e1178/gTTS-2.2.2-py3-none-any.whl\n",
            "Requirement already satisfied: six in /usr/local/lib/python3.7/dist-packages (from gtts) (1.15.0)\n",
            "Requirement already satisfied: requests in /usr/local/lib/python3.7/dist-packages (from gtts) (2.23.0)\n",
            "Requirement already satisfied: click in /usr/local/lib/python3.7/dist-packages (from gtts) (7.1.2)\n",
            "Requirement already satisfied: urllib3!=1.25.0,!=1.25.1,<1.26,>=1.21.1 in /usr/local/lib/python3.7/dist-packages (from requests->gtts) (1.24.3)\n",
            "Requirement already satisfied: idna<3,>=2.5 in /usr/local/lib/python3.7/dist-packages (from requests->gtts) (2.10)\n",
            "Requirement already satisfied: chardet<4,>=3.0.2 in /usr/local/lib/python3.7/dist-packages (from requests->gtts) (3.0.4)\n",
            "Requirement already satisfied: certifi>=2017.4.17 in /usr/local/lib/python3.7/dist-packages (from requests->gtts) (2020.12.5)\n",
            "Installing collected packages: gtts\n",
            "Successfully installed gtts-2.2.2\n"
          ],
          "name": "stdout"
        }
      ]
    },
    {
      "cell_type": "markdown",
      "metadata": {
        "id": "OX9MxwwaYjtJ"
      },
      "source": [
        "### **1.2 Importing the required modules**"
      ]
    },
    {
      "cell_type": "code",
      "metadata": {
        "id": "qm9mor4mwRoM"
      },
      "source": [
        "import pytesseract\n",
        "import shutil\n",
        "import os\n",
        "import random\n",
        "try:\n",
        " from PIL import Image\n",
        "except ImportError:\n",
        " import Image"
      ],
      "execution_count": 2,
      "outputs": []
    },
    {
      "cell_type": "markdown",
      "metadata": {
        "id": "FXShc4f5YoNV"
      },
      "source": [
        "### **1.3 Text Detection from Image**"
      ]
    },
    {
      "cell_type": "code",
      "metadata": {
        "colab": {
          "base_uri": "https://localhost:8080/"
        },
        "id": "_pDH9osevqlJ",
        "outputId": "dd225d78-a2cc-4459-d641-0ed802717e6d"
      },
      "source": [
        "\n",
        "path='3.jpg'\n",
        "info_text = pytesseract.image_to_string(Image.open(path))\n",
        "print(info_text)"
      ],
      "execution_count": 66,
      "outputs": [
        {
          "output_type": "stream",
          "text": [
            " \n",
            "\n",
            "1: 0275 Utwisienim 2.99\n",
            "2:1227 Nibheuismod — 1.30\n",
            "942 Rdol magna 170\n",
            "4:0257 Mnonuynibh 6.99\n",
            "Kaoreet dolore 4.2\n",
            "6:9463 Taliquamerat 5.10\n",
            "7:0059 Aeuismod 10.0\n",
            "556 Knonuy nib 499\n",
            "\n",
            " \n",
            "\n",
            " \n",
            "\n",
            " \n",
            "\n",
            "  \n",
            "\n",
            "Discount — $5.99\n",
            "TOTAL $34.50\n",
            "\n",
            "© CanStockPhoto.com - csp46336812\n",
            "\f\n"
          ],
          "name": "stdout"
        }
      ]
    },
    {
      "cell_type": "code",
      "metadata": {
        "id": "NCHxMGugdhsY"
      },
      "source": [
        "\n",
        "f = open(\"recipt_text.txt\", \"w\")\n",
        "f.write(info_text)\n",
        "f.close()\n"
      ],
      "execution_count": 67,
      "outputs": []
    },
    {
      "cell_type": "markdown",
      "metadata": {
        "id": "LMl0T4unYw-V"
      },
      "source": [
        "### **1.4 Converting the text into array**"
      ]
    },
    {
      "cell_type": "code",
      "metadata": {
        "colab": {
          "base_uri": "https://localhost:8080/"
        },
        "id": "lmLAFbEVM-24",
        "outputId": "a0ab0965-ac99-440b-b880-c5a8716df03a"
      },
      "source": [
        "recipt_text = info_text.split()\n",
        "recipt_text"
      ],
      "execution_count": 68,
      "outputs": [
        {
          "output_type": "execute_result",
          "data": {
            "text/plain": [
              "['1:',\n",
              " '0275',\n",
              " 'Utwisienim',\n",
              " '2.99',\n",
              " '2:1227',\n",
              " 'Nibheuismod',\n",
              " '—',\n",
              " '1.30',\n",
              " '942',\n",
              " 'Rdol',\n",
              " 'magna',\n",
              " '170',\n",
              " '4:0257',\n",
              " 'Mnonuynibh',\n",
              " '6.99',\n",
              " 'Kaoreet',\n",
              " 'dolore',\n",
              " '4.2',\n",
              " '6:9463',\n",
              " 'Taliquamerat',\n",
              " '5.10',\n",
              " '7:0059',\n",
              " 'Aeuismod',\n",
              " '10.0',\n",
              " '556',\n",
              " 'Knonuy',\n",
              " 'nib',\n",
              " '499',\n",
              " 'Discount',\n",
              " '—',\n",
              " '$5.99',\n",
              " 'TOTAL',\n",
              " '$34.50',\n",
              " '©',\n",
              " 'CanStockPhoto.com',\n",
              " '-',\n",
              " 'csp46336812']"
            ]
          },
          "metadata": {
            "tags": []
          },
          "execution_count": 68
        }
      ]
    },
    {
      "cell_type": "markdown",
      "metadata": {
        "id": "yheoxFzVY40w"
      },
      "source": [
        "### **1.5 Converting the text into lowercase**"
      ]
    },
    {
      "cell_type": "code",
      "metadata": {
        "colab": {
          "base_uri": "https://localhost:8080/"
        },
        "id": "TyRNM4ZiXx0Z",
        "outputId": "53a85f07-017f-4609-f7ca-fbeac78ce5fd"
      },
      "source": [
        "for i in range(len(recipt_text)):\n",
        "   recipt_text[i] = recipt_text[i].lower()\n",
        "print(recipt_text)"
      ],
      "execution_count": 69,
      "outputs": [
        {
          "output_type": "stream",
          "text": [
            "['1:', '0275', 'utwisienim', '2.99', '2:1227', 'nibheuismod', '—', '1.30', '942', 'rdol', 'magna', '170', '4:0257', 'mnonuynibh', '6.99', 'kaoreet', 'dolore', '4.2', '6:9463', 'taliquamerat', '5.10', '7:0059', 'aeuismod', '10.0', '556', 'knonuy', 'nib', '499', 'discount', '—', '$5.99', 'total', '$34.50', '©', 'canstockphoto.com', '-', 'csp46336812']\n"
          ],
          "name": "stdout"
        }
      ]
    },
    {
      "cell_type": "markdown",
      "metadata": {
        "id": "lpyxa5uraDUM"
      },
      "source": [
        "### **1.6 User Speech as Input**"
      ]
    },
    {
      "cell_type": "code",
      "metadata": {
        "colab": {
          "base_uri": "https://localhost:8080/",
          "height": 363
        },
        "id": "fbQ6niaCbQ-Y",
        "outputId": "bd42ea1b-15eb-417a-a107-641c6fcef4af"
      },
      "source": [
        "from speech_recognition import Microphone, Recognizer, AudioFile\n",
        "\n",
        "rec = Recognizer()\n",
        "mic = Microphone()\n",
        "\n",
        "with mic:\n",
        "    print(\"Talk Now\")\n",
        "    audio = rec.record(mic, 5)\n",
        "\n",
        "recognized = rec.recognize_google(audio)\n",
        "print(\"You said : \", recognized)"
      ],
      "execution_count": 70,
      "outputs": [
        {
          "output_type": "error",
          "ename": "ModuleNotFoundError",
          "evalue": "ignored",
          "traceback": [
            "\u001b[0;31m---------------------------------------------------------------------------\u001b[0m",
            "\u001b[0;31mModuleNotFoundError\u001b[0m                       Traceback (most recent call last)",
            "\u001b[0;32m<ipython-input-70-bd48a7abbcce>\u001b[0m in \u001b[0;36m<module>\u001b[0;34m()\u001b[0m\n\u001b[0;32m----> 1\u001b[0;31m \u001b[0;32mfrom\u001b[0m \u001b[0mspeech_recognition\u001b[0m \u001b[0;32mimport\u001b[0m \u001b[0mMicrophone\u001b[0m\u001b[0;34m,\u001b[0m \u001b[0mRecognizer\u001b[0m\u001b[0;34m,\u001b[0m \u001b[0mAudioFile\u001b[0m\u001b[0;34m\u001b[0m\u001b[0;34m\u001b[0m\u001b[0m\n\u001b[0m\u001b[1;32m      2\u001b[0m \u001b[0;34m\u001b[0m\u001b[0m\n\u001b[1;32m      3\u001b[0m \u001b[0mrec\u001b[0m \u001b[0;34m=\u001b[0m \u001b[0mRecognizer\u001b[0m\u001b[0;34m(\u001b[0m\u001b[0;34m)\u001b[0m\u001b[0;34m\u001b[0m\u001b[0;34m\u001b[0m\u001b[0m\n\u001b[1;32m      4\u001b[0m \u001b[0mmic\u001b[0m \u001b[0;34m=\u001b[0m \u001b[0mMicrophone\u001b[0m\u001b[0;34m(\u001b[0m\u001b[0;34m)\u001b[0m\u001b[0;34m\u001b[0m\u001b[0;34m\u001b[0m\u001b[0m\n\u001b[1;32m      5\u001b[0m \u001b[0;34m\u001b[0m\u001b[0m\n",
            "\u001b[0;31mModuleNotFoundError\u001b[0m: No module named 'speech_recognition'",
            "",
            "\u001b[0;31m---------------------------------------------------------------------------\u001b[0;32m\nNOTE: If your import is failing due to a missing package, you can\nmanually install dependencies using either !pip or !apt.\n\nTo view examples of installing some common dependencies, click the\n\"Open Examples\" button below.\n\u001b[0;31m---------------------------------------------------------------------------\u001b[0m\n"
          ]
        }
      ]
    },
    {
      "cell_type": "markdown",
      "metadata": {
        "id": "ulS4vlgraMjE"
      },
      "source": [
        "### **1.7 Optial case**\n",
        "As speech is not working in colab,I am taking the string as input.\n",
        "\n",
        "**Remove this optial section when using in pycharm**"
      ]
    },
    {
      "cell_type": "code",
      "metadata": {
        "id": "eqgHI6-aaLPv"
      },
      "source": [
        " #I have took a dummy speech\"\n",
        "recognized = \"Please! tell cost of Knonuy nib\""
      ],
      "execution_count": 77,
      "outputs": []
    },
    {
      "cell_type": "code",
      "metadata": {
        "colab": {
          "base_uri": "https://localhost:8080/"
        },
        "id": "UUyCU29QCUrC",
        "outputId": "e3b72984-5b81-4cf9-e14a-bc0efddc4845"
      },
      "source": [
        "\n",
        "def Convert(string):\n",
        "\tli = list(string.split(\" \"))\n",
        "\treturn li\n",
        "\n",
        "li = Convert(recognized)\n",
        "print(li)\n"
      ],
      "execution_count": 78,
      "outputs": [
        {
          "output_type": "stream",
          "text": [
            "['Please!', 'tell', 'cost', 'of', 'Knonuy', 'nib']\n"
          ],
          "name": "stdout"
        }
      ]
    },
    {
      "cell_type": "code",
      "metadata": {
        "colab": {
          "base_uri": "https://localhost:8080/"
        },
        "id": "rxBNj70fC2aZ",
        "outputId": "725c23f4-0ea3-4cfd-d333-9b64948b5157"
      },
      "source": [
        "\n",
        "articles = {'a','of','only','for','an'}\n",
        "\n",
        "li = [ele for ele in li if ele not in articles]\n",
        "print(li)\n"
      ],
      "execution_count": 85,
      "outputs": [
        {
          "output_type": "stream",
          "text": [
            "['Please!', 'tell', 'cost', 'Knonuy', 'nib']\n"
          ],
          "name": "stdout"
        }
      ]
    },
    {
      "cell_type": "markdown",
      "metadata": {
        "id": "B9JU-Maiakyu"
      },
      "source": [
        "### **1.8 Converting Speech into token of array values**"
      ]
    },
    {
      "cell_type": "code",
      "metadata": {
        "colab": {
          "base_uri": "https://localhost:8080/"
        },
        "id": "OWOxD5GuDsGF",
        "outputId": "b84de6ad-d91e-40bc-d4c7-5c5cfe6f02c2"
      },
      "source": [
        "import numpy as np\n",
        "recognized_text = np.asarray(li)\n",
        "\n",
        "for i in range(len(li)):\n",
        "   recognized_text[i] = recognized_text[i].lower()\n",
        "\n",
        "\n",
        "print(recognized_text)\n",
        "print(type(recognized_text))\n"
      ],
      "execution_count": 86,
      "outputs": [
        {
          "output_type": "stream",
          "text": [
            "['please!' 'tell' 'cost' 'knonuy' 'nib']\n",
            "<class 'numpy.ndarray'>\n"
          ],
          "name": "stdout"
        }
      ]
    },
    {
      "cell_type": "markdown",
      "metadata": {
        "id": "w2UZnsUyavtl"
      },
      "source": [
        "### **1.9 User Speech mapping**"
      ]
    },
    {
      "cell_type": "code",
      "metadata": {
        "colab": {
          "base_uri": "https://localhost:8080/"
        },
        "id": "8SYqwNwgaLKd",
        "outputId": "362a106c-ea30-4090-db0e-fc75c371b9b5"
      },
      "source": [
        "\n",
        "\n",
        "\n",
        "#program to print date\n",
        "for j in range(len(recognized_text)):\n",
        "  if(recognized_text[j] == 'date'):\n",
        "      import re\n",
        "      f = open(\"recipt_text.txt\", \"r\")\n",
        "      content = f.read()\n",
        "      pattern = \"\\d{2}[/-]\\d{2}[/-]\\d{4}\"\n",
        "      dates = re.findall(pattern, content)\n",
        "      for date in dates:\n",
        "          if \"-\" in date:\n",
        "              day, month, year = map(int, date.split(\"-\"))\n",
        "          else:\n",
        "              day, month, year = map(int, date.split(\"/\"))\n",
        "          if 1 <= day <= 31 and 1 <= month <= 12:\n",
        "              print(date)\n",
        "              text_val = date\n",
        "      f.close()\n",
        "\n",
        "\n",
        "#program to print time\n",
        "for j in range(len(recognized_text)):\n",
        "  if(recognized_text[j] == 'time'):\n",
        "    regex = re.compile(r'\\d{2}:\\d{2}')\n",
        "    with open('recipt_text.txt') as f:\n",
        "      # text_val = regex.findall(f.read())\n",
        "      # print(text_val)\n",
        "      def listToString(s):\n",
        "        str1 = \"\"\n",
        "        for ele in s: \n",
        "          str1 += ele\n",
        "        return str1\n",
        "      text_val =listToString(text_val)\n",
        "      print(text_val) \n",
        "         \n",
        "\n",
        "\n",
        "\n",
        "import re\n",
        "count=0\n",
        "for i in range(0, len(recipt_text)):\n",
        "  for j in range(0, len(recognized_text)):\n",
        "     if(recognized_text[j] == recipt_text[i]):\n",
        "       count+=1\n",
        "       n=count\n",
        "\n",
        "if(count == n):\n",
        "  for i in range(0, len(recipt_text)):\n",
        "    for j in range(0, len(recognized_text)):\n",
        "      if(recognized_text[j] == recipt_text[i]):\n",
        "        val = recipt_text[i]\n",
        "\n",
        "\n",
        "for i in range(0, len(recipt_text)):\n",
        "  for j in range(0, len(recognized_text)):\n",
        "     if(recipt_text[i] == val):\n",
        "       inval = i\n",
        "       if(recipt_text[inval + 1].isalpha()):\n",
        "         print(recipt_text[inval + 2])\n",
        "         break\n",
        "       else:\n",
        "         print(recipt_text[inval+1])\n",
        "         break"
      ],
      "execution_count": 88,
      "outputs": [
        {
          "output_type": "stream",
          "text": [
            "499\n"
          ],
          "name": "stdout"
        }
      ]
    },
    {
      "cell_type": "markdown",
      "metadata": {
        "id": "Jobdygf4cFUG"
      },
      "source": [
        "### **2.0 Copying the output into a file**"
      ]
    },
    {
      "cell_type": "code",
      "metadata": {
        "id": "wC_gXYYsaLHL"
      },
      "source": [
        "\n",
        "f = open(\"text.txt\", \"w\")\n",
        "f.write(text_val)\n",
        "f.close()\n",
        "\n",
        "f = open(\"text.txt\", \"r\")\n",
        "print(f.read())\n"
      ],
      "execution_count": null,
      "outputs": []
    },
    {
      "cell_type": "markdown",
      "metadata": {
        "id": "1Qh7WdpFcUUZ"
      },
      "source": [
        "### **2.1 Converting to audio**"
      ]
    },
    {
      "cell_type": "code",
      "metadata": {
        "id": "QeUsHlPXaLFf"
      },
      "source": [
        "from gtts import gTTS\n",
        "\n",
        "import os\n",
        "\n",
        "f=open('text.txt')\n",
        "x=f.read()\n",
        "\n",
        "language='en'\n",
        "\n",
        "audio=gTTS(text=x,lang=language,slow=False)\n",
        "\n",
        "audio.save(\"1.wav\")\n",
        "os.system(\"1.wav\")"
      ],
      "execution_count": null,
      "outputs": []
    },
    {
      "cell_type": "markdown",
      "metadata": {
        "id": "T_3Okad7cjkk"
      },
      "source": [
        "## **The End**"
      ]
    },
    {
      "cell_type": "code",
      "metadata": {
        "id": "IAAX7W9-jqsQ"
      },
      "source": [
        ""
      ],
      "execution_count": null,
      "outputs": []
    }
  ]
}