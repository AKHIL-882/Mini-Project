{
  "nbformat": 4,
  "nbformat_minor": 0,
  "metadata": {
    "accelerator": "TPU",
    "colab": {
      "name": "Mini Project.ipynb",
      "provenance": [],
      "authorship_tag": "ABX9TyM0dMOQfDIHz0p8m9u92ruZ",
      "include_colab_link": true
    },
    "kernelspec": {
      "display_name": "Python 3",
      "name": "python3"
    },
    "language_info": {
      "name": "python"
    }
  },
  "cells": [
    {
      "cell_type": "markdown",
      "metadata": {
        "id": "view-in-github",
        "colab_type": "text"
      },
      "source": [
        "<a href=\"https://colab.research.google.com/github/AKHIL-882/Mini-Project/blob/main/Mini_Project%20-%20Part-I.ipynb\" target=\"_parent\"><img src=\"https://colab.research.google.com/assets/colab-badge.svg\" alt=\"Open In Colab\"/></a>"
      ]
    },
    {
      "cell_type": "markdown",
      "metadata": {
        "id": "2ym8fJ0B7ycd"
      },
      "source": [
        "EasyOCR is a python package that allows the image to be converted to text. It is by far the easiest way to implement OCR and has access to over 70+ languages including English, Chinese, Japanese, Korean, Hindi, many more are being added. EasyOCR is created by the Jaided AI company"
      ]
    },
    {
      "cell_type": "markdown",
      "metadata": {
        "id": "uaYiPqOl72xc"
      },
      "source": [
        "### **1.1 Installing the EasyOCR**"
      ]
    },
    {
      "cell_type": "code",
      "metadata": {
        "colab": {
          "base_uri": "https://localhost:8080/"
        },
        "id": "OAnQZxWw5mzy",
        "outputId": "1269607e-5014-48c3-e4d8-43fe1904809f"
      },
      "source": [
        "!pip install easyocr"
      ],
      "execution_count": 1,
      "outputs": [
        {
          "output_type": "stream",
          "text": [
            "Requirement already satisfied: easyocr in /usr/local/lib/python3.7/dist-packages (1.3.1)\n",
            "Requirement already satisfied: scipy in /usr/local/lib/python3.7/dist-packages (from easyocr) (1.4.1)\n",
            "Requirement already satisfied: PyYAML in /usr/local/lib/python3.7/dist-packages (from easyocr) (3.13)\n",
            "Requirement already satisfied: python-bidi in /usr/local/lib/python3.7/dist-packages (from easyocr) (0.4.2)\n",
            "Requirement already satisfied: torch in /usr/local/lib/python3.7/dist-packages (from easyocr) (1.8.1+cu101)\n",
            "Requirement already satisfied: torchvision>=0.5 in /usr/local/lib/python3.7/dist-packages (from easyocr) (0.9.1+cu101)\n",
            "Requirement already satisfied: Pillow in /usr/local/lib/python3.7/dist-packages (from easyocr) (7.1.2)\n",
            "Requirement already satisfied: opencv-python in /usr/local/lib/python3.7/dist-packages (from easyocr) (4.1.2.30)\n",
            "Requirement already satisfied: scikit-image in /usr/local/lib/python3.7/dist-packages (from easyocr) (0.16.2)\n",
            "Requirement already satisfied: numpy in /usr/local/lib/python3.7/dist-packages (from easyocr) (1.19.5)\n",
            "Requirement already satisfied: six in /usr/local/lib/python3.7/dist-packages (from python-bidi->easyocr) (1.15.0)\n",
            "Requirement already satisfied: typing-extensions in /usr/local/lib/python3.7/dist-packages (from torch->easyocr) (3.7.4.3)\n",
            "Requirement already satisfied: imageio>=2.3.0 in /usr/local/lib/python3.7/dist-packages (from scikit-image->easyocr) (2.4.1)\n",
            "Requirement already satisfied: matplotlib!=3.0.0,>=2.0.0 in /usr/local/lib/python3.7/dist-packages (from scikit-image->easyocr) (3.2.2)\n",
            "Requirement already satisfied: PyWavelets>=0.4.0 in /usr/local/lib/python3.7/dist-packages (from scikit-image->easyocr) (1.1.1)\n",
            "Requirement already satisfied: networkx>=2.0 in /usr/local/lib/python3.7/dist-packages (from scikit-image->easyocr) (2.5.1)\n",
            "Requirement already satisfied: cycler>=0.10 in /usr/local/lib/python3.7/dist-packages (from matplotlib!=3.0.0,>=2.0.0->scikit-image->easyocr) (0.10.0)\n",
            "Requirement already satisfied: pyparsing!=2.0.4,!=2.1.2,!=2.1.6,>=2.0.1 in /usr/local/lib/python3.7/dist-packages (from matplotlib!=3.0.0,>=2.0.0->scikit-image->easyocr) (2.4.7)\n",
            "Requirement already satisfied: python-dateutil>=2.1 in /usr/local/lib/python3.7/dist-packages (from matplotlib!=3.0.0,>=2.0.0->scikit-image->easyocr) (2.8.1)\n",
            "Requirement already satisfied: kiwisolver>=1.0.1 in /usr/local/lib/python3.7/dist-packages (from matplotlib!=3.0.0,>=2.0.0->scikit-image->easyocr) (1.3.1)\n",
            "Requirement already satisfied: decorator<5,>=4.3 in /usr/local/lib/python3.7/dist-packages (from networkx>=2.0->scikit-image->easyocr) (4.4.2)\n"
          ],
          "name": "stdout"
        }
      ]
    },
    {
      "cell_type": "markdown",
      "metadata": {
        "id": "FKrya5OK6Y7M"
      },
      "source": [
        "### **1.1.1 Installing (Google Text-to-Speech)is a Python library**"
      ]
    },
    {
      "cell_type": "code",
      "metadata": {
        "colab": {
          "base_uri": "https://localhost:8080/"
        },
        "id": "_IXI7o5B1vKS",
        "outputId": "7bf12a80-499e-4056-b4c1-859ec7e567ac"
      },
      "source": [
        "!pip install gtts"
      ],
      "execution_count": 2,
      "outputs": [
        {
          "output_type": "stream",
          "text": [
            "Requirement already satisfied: gtts in /usr/local/lib/python3.7/dist-packages (2.2.2)\n",
            "Requirement already satisfied: six in /usr/local/lib/python3.7/dist-packages (from gtts) (1.15.0)\n",
            "Requirement already satisfied: click in /usr/local/lib/python3.7/dist-packages (from gtts) (7.1.2)\n",
            "Requirement already satisfied: requests in /usr/local/lib/python3.7/dist-packages (from gtts) (2.23.0)\n",
            "Requirement already satisfied: chardet<4,>=3.0.2 in /usr/local/lib/python3.7/dist-packages (from requests->gtts) (3.0.4)\n",
            "Requirement already satisfied: urllib3!=1.25.0,!=1.25.1,<1.26,>=1.21.1 in /usr/local/lib/python3.7/dist-packages (from requests->gtts) (1.24.3)\n",
            "Requirement already satisfied: certifi>=2017.4.17 in /usr/local/lib/python3.7/dist-packages (from requests->gtts) (2020.12.5)\n",
            "Requirement already satisfied: idna<3,>=2.5 in /usr/local/lib/python3.7/dist-packages (from requests->gtts) (2.10)\n"
          ],
          "name": "stdout"
        }
      ]
    },
    {
      "cell_type": "markdown",
      "metadata": {
        "id": "RHAxPEY58CjD"
      },
      "source": [
        "### **1.2 Installing the required modules**"
      ]
    },
    {
      "cell_type": "code",
      "metadata": {
        "id": "i-0AqiiU6bSs"
      },
      "source": [
        "import matplotlib.pyplot as plt    #for visualization\n",
        "import cv2                         #open Cv module\n",
        "import easyocr                     #easyocr module\n",
        "from pylab import rcParams         #runtime configuration\n",
        "from IPython.display import Image  #image module\n",
        "rcParams['figure.figsize'] = 8, 16 #defining the image size"
      ],
      "execution_count": 3,
      "outputs": []
    },
    {
      "cell_type": "markdown",
      "metadata": {
        "id": "i6CKWMYB8pXK"
      },
      "source": [
        "### **1.3 Converting the text in to English readable format**"
      ]
    },
    {
      "cell_type": "code",
      "metadata": {
        "colab": {
          "base_uri": "https://localhost:8080/"
        },
        "id": "ClDkIpiB6zi4",
        "outputId": "b4ec1a09-6581-4378-b492-11b956f4f251"
      },
      "source": [
        "reader = easyocr.Reader(['en'])"
      ],
      "execution_count": 4,
      "outputs": [
        {
          "output_type": "stream",
          "text": [
            "CUDA not available - defaulting to CPU. Note: This module is much faster with a GPU.\n"
          ],
          "name": "stderr"
        }
      ]
    },
    {
      "cell_type": "markdown",
      "metadata": {
        "id": "mYk9MbBX9JaE"
      },
      "source": [
        "### **1.4 Displaying the Image**"
      ]
    },
    {
      "cell_type": "code",
      "metadata": {
        "colab": {
          "base_uri": "https://localhost:8080/",
          "height": 629
        },
        "id": "EjDdUUi565MU",
        "outputId": "f2f98df6-b4c8-45bd-ea70-9ab2582112cf"
      },
      "source": [
        "Image(\"2.jpg\")"
      ],
      "execution_count": 5,
      "outputs": [
        {
          "output_type": "execute_result",
          "data": {
            "image/jpeg": "[encoded data removed]",
            "text/plain": [
              "<IPython.core.display.Image object>"
            ]
          },
          "metadata": {
            "tags": []
          },
          "execution_count": 5
        }
      ]
    },
    {
      "cell_type": "markdown",
      "metadata": {
        "id": "RgABPyxc9W_T"
      },
      "source": [
        "### **1.5 Reading the Text from the Image**"
      ]
    },
    {
      "cell_type": "code",
      "metadata": {
        "id": "hkqUn-g47RGz"
      },
      "source": [
        "output = reader.readtext('2.jpg')"
      ],
      "execution_count": 6,
      "outputs": []
    },
    {
      "cell_type": "markdown",
      "metadata": {
        "id": "TSOrmP8e9hl1"
      },
      "source": [
        "###**1.6 Printing the Text**"
      ]
    },
    {
      "cell_type": "code",
      "metadata": {
        "colab": {
          "base_uri": "https://localhost:8080/"
        },
        "id": "HprErM-I7XpS",
        "outputId": "3f2dd1de-182b-4991-9807-cf03d2b34364"
      },
      "source": [
        "output"
      ],
      "execution_count": 7,
      "outputs": [
        {
          "output_type": "execute_result",
          "data": {
            "text/plain": [
              "[([[172, 56], [206, 56], [206, 62], [172, 62]], 'Eeee', 0.0011031059548258781),\n",
              " ([[233, 53], [311, 53], [311, 65], [233, 65]],\n",
              "  '4*444#44*',\n",
              "  0.07593596519084411),\n",
              " ([[364, 56], [432, 56], [432, 64], [364, 64]],\n",
              "  '4+444444',\n",
              "  0.08083052824231994),\n",
              " ([[266, 68], [338, 68], [338, 92], [266, 92]], 'RECEIPT', 0.9995946418116533),\n",
              " ([[171, 97], [209, 97], [209, 109], [171, 109]],\n",
              "  '4444=',\n",
              "  0.10371491870104596),\n",
              " ([[173, 117], [235, 117], [235, 131], [173, 131]],\n",
              "  'Terrinali]',\n",
              "  0.406513385861277),\n",
              " ([[319, 117], [379, 117], [379, 129], [319, 129]],\n",
              "  '01-02-2018',\n",
              "  0.9618595916216701),\n",
              " ([[387, 117], [433, 117], [433, 131], [387, 131]],\n",
              "  'I1,32AM',\n",
              "  0.11764243110430309),\n",
              " ([[171, 157], [237, 157], [237, 173], [171, 173]],\n",
              "  '1xT-Shirt',\n",
              "  0.6516051940452673),\n",
              " ([[387, 157], [433, 157], [433, 175], [387, 175]],\n",
              "  '525.50',\n",
              "  0.9183333804645278),\n",
              " ([[173, 187], [249, 187], [249, 203], [173, 203]],\n",
              "  '1x Watches',\n",
              "  0.6624597962621558),\n",
              " ([[377, 187], [433, 187], [433, 205], [377, 205]],\n",
              "  '5299.00',\n",
              "  0.8748473524454049),\n",
              " ([[173, 219], [231, 219], [231, 235], [173, 235]],\n",
              "  '1x Pants',\n",
              "  0.7069685042385474),\n",
              " ([[387, 215], [433, 215], [433, 235], [387, 235]],\n",
              "  '532.99',\n",
              "  0.7826903397031957),\n",
              " ([[173, 249], [231, 249], [231, 265], [173, 265]],\n",
              "  'Ix Socks',\n",
              "  0.5053411310059435),\n",
              " ([[393, 247], [433, 247], [433, 267], [393, 267]],\n",
              "  '56.50',\n",
              "  0.9720096176610612),\n",
              " ([[173, 297], [281, 297], [281, 313], [173, 313]],\n",
              "  'TOTAL AMOUNT',\n",
              "  0.9899819927908683),\n",
              " ([[377, 295], [433, 295], [433, 315], [377, 315]],\n",
              "  '5363.99',\n",
              "  0.6171376416019063),\n",
              " ([[171, 313], [211, 313], [211, 333], [171, 333]],\n",
              "  'CASH',\n",
              "  0.9907650351524353),\n",
              " ([[375, 313], [433, 313], [433, 333], [375, 333]],\n",
              "  'S400.00',\n",
              "  0.8809892168181819),\n",
              " ([[173, 335], [229, 335], [229, 351], [173, 351]],\n",
              "  'CHANGE',\n",
              "  0.9865547286732137),\n",
              " ([[389, 333], [433, 333], [433, 351], [389, 351]],\n",
              "  '536.01',\n",
              "  0.9823139991351043),\n",
              " ([[173, 371], [237, 371], [237, 387], [173, 387]],\n",
              "  'Bank Card',\n",
              "  0.9654494464888349),\n",
              " ([[403, 369], [433, 369], [433, 387], [403, 387]],\n",
              "  '7211',\n",
              "  0.9842252541903699),\n",
              " ([[173, 391], [241, 391], [241, 407], [173, 407]],\n",
              "  'Approvaltt',\n",
              "  0.6552935066977273),\n",
              " ([[389, 391], [433, 391], [433, 405], [389, 405]],\n",
              "  '192107',\n",
              "  0.9999217914618646),\n",
              " ([[190, 440], [250, 440], [250, 448], [190, 448]],\n",
              "  '##rrta',\n",
              "  0.0033945161502472536),\n",
              " ([[251, 435], [353, 435], [353, 455], [251, 455]],\n",
              "  'THANK YOUI',\n",
              "  0.9550309357648908),\n",
              " ([[356, 440], [432, 440], [432, 448], [356, 448]],\n",
              "  '#iaiiriie',\n",
              "  4.828865954958954e-05)]"
            ]
          },
          "metadata": {
            "tags": []
          },
          "execution_count": 7
        }
      ]
    },
    {
      "cell_type": "markdown",
      "metadata": {
        "id": "0sNvppjK3W0K"
      },
      "source": [
        "### **1.7 Slicing the words from the output**"
      ]
    },
    {
      "cell_type": "code",
      "metadata": {
        "colab": {
          "base_uri": "https://localhost:8080/"
        },
        "id": "JZc0k7J6KlzK",
        "outputId": "18e897a2-b198-45fe-9d31-3086d4178dd2"
      },
      "source": [
        "l = []\n",
        "for i in range(len(output)):\n",
        "  l.append(output[i][1])\n",
        "print(l)\n"
      ],
      "execution_count": 8,
      "outputs": [
        {
          "output_type": "stream",
          "text": [
            "['Eeee', '4*444#44*', '4+444444', 'RECEIPT', '4444=', 'Terrinali]', '01-02-2018', 'I1,32AM', '1xT-Shirt', '525.50', '1x Watches', '5299.00', '1x Pants', '532.99', 'Ix Socks', '56.50', 'TOTAL AMOUNT', '5363.99', 'CASH', 'S400.00', 'CHANGE', '536.01', 'Bank Card', '7211', 'Approvaltt', '192107', '##rrta', 'THANK YOUI', '#iaiiriie']\n"
          ],
          "name": "stdout"
        }
      ]
    },
    {
      "cell_type": "markdown",
      "metadata": {
        "id": "FF3jqf1ZeCFe"
      },
      "source": [
        "### **1.8 Converting list to array**"
      ]
    },
    {
      "cell_type": "code",
      "metadata": {
        "colab": {
          "base_uri": "https://localhost:8080/"
        },
        "id": "uBPGLFiCSFtP",
        "outputId": "9e144918-be3e-4d21-c99d-6c5dcb2f298b"
      },
      "source": [
        "import numpy as np\n",
        "my_array = np.asarray(l)\n",
        "\n",
        "for i in range(len(my_array)):\n",
        "   my_array[i] = my_array[i].lower()\n",
        "\n",
        "\n",
        "print(my_array)\n",
        "print(type(my_array))"
      ],
      "execution_count": 9,
      "outputs": [
        {
          "output_type": "stream",
          "text": [
            "['eeee' '4*444#44*' '4+444444' 'receipt' '4444=' 'terrinali]' '01-02-2018'\n",
            " 'i1,32am' '1xt-shirt' '525.50' '1x watches' '5299.00' '1x pants' '532.99'\n",
            " 'ix socks' '56.50' 'total amount' '5363.99' 'cash' 's400.00' 'change'\n",
            " '536.01' 'bank card' '7211' 'approvaltt' '192107' '##rrta' 'thank youi'\n",
            " '#iaiiriie']\n",
            "<class 'numpy.ndarray'>\n"
          ],
          "name": "stdout"
        }
      ]
    },
    {
      "cell_type": "markdown",
      "metadata": {
        "id": "70xVHlpSeGxp"
      },
      "source": [
        "### **1.9 User Input and mapping**"
      ]
    },
    {
      "cell_type": "code",
      "metadata": {
        "colab": {
          "base_uri": "https://localhost:8080/"
        },
        "id": "ysD043NpLuv4",
        "outputId": "a3a3ca1c-4b16-4322-95e0-5a2bcd4b6ea4"
      },
      "source": [
        "text = input()\n",
        "count = 0\n",
        "for i in my_array:\n",
        "  count+=1\n",
        "  if(i == text):\n",
        "    print(\"match\")\n",
        "    print(\"The overall cost of \" + text + \" is:  \" + my_array[count])\n",
        "    text_val = my_array[count]\n",
        "\n",
        "\n"
      ],
      "execution_count": 11,
      "outputs": [
        {
          "output_type": "stream",
          "text": [
            "1xt-shirt\n",
            "match\n",
            "The overall cost of 1xt-shirt is:  525.50\n"
          ],
          "name": "stdout"
        }
      ]
    },
    {
      "cell_type": "markdown",
      "metadata": {
        "id": "qR57oqkP3yZ2"
      },
      "source": [
        "### **1.9 Copying the text into a file**"
      ]
    },
    {
      "cell_type": "code",
      "metadata": {
        "colab": {
          "base_uri": "https://localhost:8080/"
        },
        "id": "kNi3vILcaguO",
        "outputId": "11955ea7-48c0-443d-d888-93b2ac5a002f"
      },
      "source": [
        "f = open(\"text.txt\", \"a\")\n",
        "f.write(text_val)\n",
        "f.close()\n",
        "\n",
        "f = open(\"text.txt\", \"r\")\n",
        "print(f.read())"
      ],
      "execution_count": 12,
      "outputs": [
        {
          "output_type": "stream",
          "text": [
            "525.50\n"
          ],
          "name": "stdout"
        }
      ]
    },
    {
      "cell_type": "markdown",
      "metadata": {
        "id": "teGaIgYvBvVm"
      },
      "source": [
        "### **2.0 Converting to audio**"
      ]
    },
    {
      "cell_type": "code",
      "metadata": {
        "colab": {
          "base_uri": "https://localhost:8080/"
        },
        "id": "rFzqkMsm1kxZ",
        "outputId": "415e8e79-35d7-448d-ef90-e152a573f82a"
      },
      "source": [
        "from gtts import gTTS\n",
        "\n",
        "import os\n",
        "\n",
        "f=open('text.txt')\n",
        "x=f.read()\n",
        "\n",
        "language='en'\n",
        "\n",
        "audio=gTTS(text=x,lang=language,slow=False)\n",
        "\n",
        "audio.save(\"1.wav\")\n",
        "os.system(\"1.wav\")"
      ],
      "execution_count": 13,
      "outputs": [
        {
          "output_type": "execute_result",
          "data": {
            "text/plain": [
              "32512"
            ]
          },
          "metadata": {
            "tags": []
          },
          "execution_count": 13
        }
      ]
    },
    {
      "cell_type": "markdown",
      "metadata": {
        "id": "N2g8gy_vZBHn"
      },
      "source": [
        "# **The End**"
      ]
    },
    {
      "cell_type": "markdown",
      "metadata": {
        "id": "6qqcZb6A3h6I"
      },
      "source": [
        "### **1.8 Converting list into String for futher processing**"
      ]
    },
    {
      "cell_type": "code",
      "metadata": {
        "colab": {
          "base_uri": "https://localhost:8080/"
        },
        "id": "qWECdIFG2-Xh",
        "outputId": "0d5c6db0-5699-45c3-93f1-becef8dd3214"
      },
      "source": [
        "def listToString(s): \n",
        "    string = \"\"  \n",
        "    for i in s: \n",
        "        string += i  \n",
        "        \n",
        "    return string     \n",
        "l = listToString(l)\n",
        "print(l) "
      ],
      "execution_count": 110,
      "outputs": [
        {
          "output_type": "stream",
          "text": [
            "Eeee4*444#44*4+444444RECEIPT4444=Terrinali]01-02-2018I1,32AM1xT-Shirt525.501x Watches5299.001x Pants532.99Ix Socks56.50TOTAL AMOUNT5363.99CASHS400.00CHANGE536.01Bank Card7211Approvaltt192107##rrtaTHANK YOUI#iaiiriie\n"
          ],
          "name": "stdout"
        }
      ]
    },
    {
      "cell_type": "code",
      "metadata": {
        "colab": {
          "base_uri": "https://localhost:8080/"
        },
        "id": "3kJr3XIr2wU-",
        "outputId": "f6dd4177-ccbd-442b-a376-8d86f11e4765"
      },
      "source": [
        "f = open(\"text.txt\", \"a\")\n",
        "f.write(l)\n",
        "f.close()\n",
        "\n",
        "f = open(\"text.txt\", \"r\")\n",
        "print(f.read())"
      ],
      "execution_count": 111,
      "outputs": [
        {
          "output_type": "stream",
          "text": [
            "E e e e   4 * 4 4 4 # 4 4 *   4 + 4 4 4 4 4 4   R E C E I P T   4 4 4 4 =   T e r r i n a l i ]   0 1 - 0 2 - 2 0 1 8   I 1 , 3 2 A M   1 x T - S h i r t   5 2 5 . 5 0   1 x   W a t c h e s   5 2 9 9 . 0 0   1 x   P a n t s   5 3 2 . 9 9   I x   S o c k s   5 6 . 5 0   T O T A L   A M O U N T   5 3 6 3 . 9 9   C A S H   S 4 0 0 . 0 0   C H A N G E   5 3 6 . 0 1   B a n k   C a r d   7 2 1 1   A p p r o v a l t t   1 9 2 1 0 7   # # r r t a   T H A N K   Y O U I   # i a i i r i i eEeee4*444#44*4+444444RECEIPT4444=Terrinali]01-02-2018I1,32AM1xT-Shirt525.501x Watches5299.001x Pants532.99Ix Socks56.50TOTAL AMOUNT5363.99CASHS400.00CHANGE536.01Bank Card7211Approvaltt192107##rrtaTHANK YOUI#iaiiriie\n"
          ],
          "name": "stdout"
        }
      ]
    },
    {
      "cell_type": "markdown",
      "metadata": {
        "id": "H027gAX-B0Cr"
      },
      "source": [
        "### **2.1 Finding date of the recipet**"
      ]
    },
    {
      "cell_type": "code",
      "metadata": {
        "colab": {
          "base_uri": "https://localhost:8080/"
        },
        "id": "n0qy87p3BDDz",
        "outputId": "a5bc1649-062f-4dee-92fb-515d75ce17e5"
      },
      "source": [
        "import re\n",
        "f = open(\"text.txt\", \"r\")\n",
        "content = f.read()\n",
        "pattern = \"\\d{2}[/-]\\d{2}[/-]\\d{4}\"\n",
        "dates = re.findall(pattern, content)\n",
        "for date in dates:\n",
        "    if \"-\" in date:\n",
        "        day, month, year = map(int, date.split(\"-\"))\n",
        "    else:\n",
        "        day, month, year = map(int, date.split(\"/\"))\n",
        "    if 1 <= day <= 31 and 1 <= month <= 12:\n",
        "        print(date)\n",
        "f.close()"
      ],
      "execution_count": 112,
      "outputs": [
        {
          "output_type": "stream",
          "text": [
            "01-02-2018\n"
          ],
          "name": "stdout"
        }
      ]
    },
    {
      "cell_type": "code",
      "metadata": {
        "id": "kIl7lrZVB64C"
      },
      "source": [
        ""
      ],
      "execution_count": null,
      "outputs": []
    }
  ]
}